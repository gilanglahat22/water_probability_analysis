{
 "cells": [
  {
   "cell_type": "markdown",
   "metadata": {},
   "source": [
    "# Tugas Besar IF2220 Probabilitas dan Statistika\n",
    "## Penarikan Kesimpulan dan Pengujian Hipotesis\n",
    "### Tujuan:\n",
    "- Mahasiswa memahami dan dapat menyelesaikan persoalan distribusi peluang variabel\n",
    "random diskrit dan kontinu, dan\n",
    "- Mahasiswa mampu menyelesaikan persoalan untuk menarik kesimpulan mengenai\n",
    "parameter populasi yang diperoleh dari data hasil eksperimen.\n",
    "- Mahasiswa mampu menyelesaikan persoalan pengujian hipotesis."
   ]
  },
  {
   "cell_type": "markdown",
   "metadata": {},
   "source": [
    "## Anggota Kelompok\n",
    "1. Mahesa Lizardy (13520116)\n",
    "2. Muhammad Gilang Ramadhan (13520137)"
   ]
  },
  {
   "cell_type": "markdown",
   "metadata": {},
   "source": [
    "### Soal Tugas"
   ]
  },
  {
   "cell_type": "markdown",
   "metadata": {},
   "source": [
    "Diberikan sebuah data water_potability.csv yang dapat diakses pada Dataset\n",
    "Tugas Besar IF2220. water_potability.csv merupakan data metrik kualitas air yang\n",
    "mengandung 11 kolom sebagai berikut:\n",
    "\n",
    "1. id\n",
    "2. pH\n",
    "3. Hardness\n",
    "4. Solids\n",
    "5. Chloramines\n",
    "6. Sulfate\n",
    "7. Conductivity\n",
    "8. OrganicCarbon\n",
    "9. Trihalomethanes\n",
    "10. Turbidity\n",
    "11. Potability\n",
    "\n",
    "Kolom 2-10 adalah kolom atribut (non-target), sedangkan kolom 11 adalah kolom target.\n",
    "Anda diminta untuk melakukan analisis statistika sebagai berikut:"
   ]
  },
  {
   "cell_type": "markdown",
   "metadata": {},
   "source": [
    "---\n",
    "### 0. Import Library and  Load Data"
   ]
  },
  {
   "cell_type": "code",
   "execution_count": 1,
   "metadata": {},
   "outputs": [
    {
     "data": {
      "text/html": [
       "<div>\n",
       "<style scoped>\n",
       "    .dataframe tbody tr th:only-of-type {\n",
       "        vertical-align: middle;\n",
       "    }\n",
       "\n",
       "    .dataframe tbody tr th {\n",
       "        vertical-align: top;\n",
       "    }\n",
       "\n",
       "    .dataframe thead th {\n",
       "        text-align: right;\n",
       "    }\n",
       "</style>\n",
       "<table border=\"1\" class=\"dataframe\">\n",
       "  <thead>\n",
       "    <tr style=\"text-align: right;\">\n",
       "      <th></th>\n",
       "      <th>id</th>\n",
       "      <th>pH</th>\n",
       "      <th>Hardness</th>\n",
       "      <th>Solids</th>\n",
       "      <th>Chloramines</th>\n",
       "      <th>Sulfate</th>\n",
       "      <th>Conductivity</th>\n",
       "      <th>OrganicCarbon</th>\n",
       "      <th>Trihalomethanes</th>\n",
       "      <th>Turbidity</th>\n",
       "      <th>Potability</th>\n",
       "    </tr>\n",
       "  </thead>\n",
       "  <tbody>\n",
       "    <tr>\n",
       "      <th>0</th>\n",
       "      <td>1</td>\n",
       "      <td>8.316766</td>\n",
       "      <td>214.373394</td>\n",
       "      <td>22018.417441</td>\n",
       "      <td>8.059332</td>\n",
       "      <td>356.886136</td>\n",
       "      <td>363.266516</td>\n",
       "      <td>18.436524</td>\n",
       "      <td>100.341674</td>\n",
       "      <td>4.628771</td>\n",
       "      <td>0</td>\n",
       "    </tr>\n",
       "    <tr>\n",
       "      <th>1</th>\n",
       "      <td>2</td>\n",
       "      <td>9.092223</td>\n",
       "      <td>181.101509</td>\n",
       "      <td>17978.986339</td>\n",
       "      <td>6.546600</td>\n",
       "      <td>310.135738</td>\n",
       "      <td>398.410813</td>\n",
       "      <td>11.558279</td>\n",
       "      <td>31.997993</td>\n",
       "      <td>4.075075</td>\n",
       "      <td>0</td>\n",
       "    </tr>\n",
       "    <tr>\n",
       "      <th>2</th>\n",
       "      <td>3</td>\n",
       "      <td>5.584087</td>\n",
       "      <td>188.313324</td>\n",
       "      <td>28748.687739</td>\n",
       "      <td>7.544869</td>\n",
       "      <td>326.678363</td>\n",
       "      <td>280.467916</td>\n",
       "      <td>8.399735</td>\n",
       "      <td>54.917862</td>\n",
       "      <td>2.559708</td>\n",
       "      <td>0</td>\n",
       "    </tr>\n",
       "    <tr>\n",
       "      <th>3</th>\n",
       "      <td>4</td>\n",
       "      <td>10.223862</td>\n",
       "      <td>248.071735</td>\n",
       "      <td>28749.716544</td>\n",
       "      <td>7.513408</td>\n",
       "      <td>393.663396</td>\n",
       "      <td>283.651634</td>\n",
       "      <td>13.789695</td>\n",
       "      <td>84.603556</td>\n",
       "      <td>2.672989</td>\n",
       "      <td>0</td>\n",
       "    </tr>\n",
       "    <tr>\n",
       "      <th>4</th>\n",
       "      <td>5</td>\n",
       "      <td>8.635849</td>\n",
       "      <td>203.361523</td>\n",
       "      <td>13672.091764</td>\n",
       "      <td>4.563009</td>\n",
       "      <td>303.309771</td>\n",
       "      <td>474.607645</td>\n",
       "      <td>12.363817</td>\n",
       "      <td>62.798309</td>\n",
       "      <td>4.401425</td>\n",
       "      <td>0</td>\n",
       "    </tr>\n",
       "    <tr>\n",
       "      <th>5</th>\n",
       "      <td>6</td>\n",
       "      <td>11.180284</td>\n",
       "      <td>227.231469</td>\n",
       "      <td>25484.508491</td>\n",
       "      <td>9.077200</td>\n",
       "      <td>404.041635</td>\n",
       "      <td>563.885481</td>\n",
       "      <td>17.927806</td>\n",
       "      <td>71.976601</td>\n",
       "      <td>4.370562</td>\n",
       "      <td>0</td>\n",
       "    </tr>\n",
       "    <tr>\n",
       "      <th>6</th>\n",
       "      <td>7</td>\n",
       "      <td>7.360640</td>\n",
       "      <td>165.520797</td>\n",
       "      <td>32452.614409</td>\n",
       "      <td>7.550701</td>\n",
       "      <td>326.624353</td>\n",
       "      <td>425.383419</td>\n",
       "      <td>15.586810</td>\n",
       "      <td>78.740016</td>\n",
       "      <td>3.662292</td>\n",
       "      <td>0</td>\n",
       "    </tr>\n",
       "    <tr>\n",
       "      <th>7</th>\n",
       "      <td>8</td>\n",
       "      <td>7.119824</td>\n",
       "      <td>156.704993</td>\n",
       "      <td>18730.813653</td>\n",
       "      <td>3.606036</td>\n",
       "      <td>282.344050</td>\n",
       "      <td>347.715027</td>\n",
       "      <td>15.929536</td>\n",
       "      <td>79.500778</td>\n",
       "      <td>3.445756</td>\n",
       "      <td>0</td>\n",
       "    </tr>\n",
       "    <tr>\n",
       "      <th>8</th>\n",
       "      <td>9</td>\n",
       "      <td>6.347272</td>\n",
       "      <td>186.732881</td>\n",
       "      <td>41065.234765</td>\n",
       "      <td>9.629596</td>\n",
       "      <td>364.487687</td>\n",
       "      <td>516.743282</td>\n",
       "      <td>11.539781</td>\n",
       "      <td>75.071617</td>\n",
       "      <td>4.376348</td>\n",
       "      <td>0</td>\n",
       "    </tr>\n",
       "    <tr>\n",
       "      <th>9</th>\n",
       "      <td>10</td>\n",
       "      <td>9.181560</td>\n",
       "      <td>273.813807</td>\n",
       "      <td>24041.326280</td>\n",
       "      <td>6.904990</td>\n",
       "      <td>398.350517</td>\n",
       "      <td>477.974642</td>\n",
       "      <td>13.387341</td>\n",
       "      <td>71.457362</td>\n",
       "      <td>4.503661</td>\n",
       "      <td>0</td>\n",
       "    </tr>\n",
       "  </tbody>\n",
       "</table>\n",
       "</div>"
      ],
      "text/plain": [
       "   id         pH    Hardness        Solids  Chloramines     Sulfate  \\\n",
       "0   1   8.316766  214.373394  22018.417441     8.059332  356.886136   \n",
       "1   2   9.092223  181.101509  17978.986339     6.546600  310.135738   \n",
       "2   3   5.584087  188.313324  28748.687739     7.544869  326.678363   \n",
       "3   4  10.223862  248.071735  28749.716544     7.513408  393.663396   \n",
       "4   5   8.635849  203.361523  13672.091764     4.563009  303.309771   \n",
       "5   6  11.180284  227.231469  25484.508491     9.077200  404.041635   \n",
       "6   7   7.360640  165.520797  32452.614409     7.550701  326.624353   \n",
       "7   8   7.119824  156.704993  18730.813653     3.606036  282.344050   \n",
       "8   9   6.347272  186.732881  41065.234765     9.629596  364.487687   \n",
       "9  10   9.181560  273.813807  24041.326280     6.904990  398.350517   \n",
       "\n",
       "   Conductivity  OrganicCarbon  Trihalomethanes  Turbidity  Potability  \n",
       "0    363.266516      18.436524       100.341674   4.628771           0  \n",
       "1    398.410813      11.558279        31.997993   4.075075           0  \n",
       "2    280.467916       8.399735        54.917862   2.559708           0  \n",
       "3    283.651634      13.789695        84.603556   2.672989           0  \n",
       "4    474.607645      12.363817        62.798309   4.401425           0  \n",
       "5    563.885481      17.927806        71.976601   4.370562           0  \n",
       "6    425.383419      15.586810        78.740016   3.662292           0  \n",
       "7    347.715027      15.929536        79.500778   3.445756           0  \n",
       "8    516.743282      11.539781        75.071617   4.376348           0  \n",
       "9    477.974642      13.387341        71.457362   4.503661           0  "
      ]
     },
     "execution_count": 1,
     "metadata": {},
     "output_type": "execute_result"
    }
   ],
   "source": [
    "from IPython.display import Markdown, display\n",
    "import pandas as pd\n",
    "import seaborn as sns\n",
    "import matplotlib.pyplot as plt\n",
    "import scipy\n",
    "import scipy.stats\n",
    "import numpy as np\n",
    "\n",
    "def printM(string):\n",
    "    display(Markdown(string))\n",
    "\n",
    "columnsName = [\"id\",\"pH\",\"Hardness\",\"Solids\",\"Chloramines\",\"Sulfate\",\"Conductivity\",\"OrganicCarbon\",\"Trihalomethanes\",\"Turbidity\",\"Potability\"]\n",
    "water_potability = pd.read_csv(\"water_potability.csv\", names= columnsName)\n",
    "# shows top 10 rows\n",
    "water_potability.head(10)"
   ]
  },
  {
   "cell_type": "markdown",
   "metadata": {},
   "source": [
    "---\n",
    "### 1. Menulis deskripsi statistika (Descriptive Statistics) dari semua kolom pada data yang bersifat numerik, terdiri dari mean, median, modus, standar deviasi, variansi, range, nilai minimum, maksimum, kuartil, IQR, skewness dan kurtosis. Boleh juga ditambahkan deskripsi lain"
   ]
  },
  {
   "cell_type": "code",
   "execution_count": 2,
   "metadata": {},
   "outputs": [],
   "source": [
    "# Prosedur untuk menulis deskripsi statistik dari suatu kolom di tabel\n",
    "def StatisticDescription(Column):\n",
    "    # Tulis statistik deskriptif dari kolom Column\n",
    "    print(\"count\\t\\t\\t: {}\".format(len(Column)))\n",
    "    print(\"mean\\t\\t\\t: {}\".format(Column.mean()))\n",
    "    print(\"median\\t\\t\\t: {}\".format(Column.median()))\n",
    "    print(\"modus\\t\\t\\t: {}\".format(Column.mode()[0]))\n",
    "    print(\"standar deviasi\\t\\t: {}\".format(Column.std()))\n",
    "    print(\"variansi\\t\\t: {}\".format(Column.std()**2))\n",
    "    print(\"range\\t\\t\\t: {}\".format(Column.max()-Column.min()))\n",
    "    print(\"nilai minimum\\t\\t: {}\".format(Column.min()))\n",
    "    print(\"nilai maksimum\\t\\t: {}\".format(Column.max()))\n",
    "    quartiles = Column.quantile([0,0.25,0.5,0.75,1])\n",
    "    for i,quartile in enumerate(quartiles):\n",
    "        print(\"Kuartil-{}\\t\\t: {}\".format(i,quartile))\n",
    "    print(\"IQR\\t\\t\\t: {}\".format(quartiles[0.75]-quartiles[0.25]))\n",
    "    print(\"skewness\\t\\t: {}\".format(Column.skew()))\n",
    "    print(\"kurtosis\\t\\t: {}\".format(scipy.stats.kurtosis(Column, fisher=False)))"
   ]
  },
  {
   "cell_type": "markdown",
   "metadata": {},
   "source": [
    "#### 1. id"
   ]
  },
  {
   "cell_type": "markdown",
   "metadata": {},
   "source": [
    "Pada id, tidak perlu ditulis deskripsi statistiknya. Dikarenakan id hanya merepresentasikan identifier yang unik pada tiap baris di masing-masing kolom dari tabel water_potability.csv atau dengan kata lain kolom ini bukan merupakan kolom numerik"
   ]
  },
  {
   "cell_type": "markdown",
   "metadata": {},
   "source": [
    "#### 2. pH"
   ]
  },
  {
   "cell_type": "code",
   "execution_count": 3,
   "metadata": {},
   "outputs": [
    {
     "name": "stdout",
     "output_type": "stream",
     "text": [
      "Deskripsi statistika dari kolom pH adalah sebagai berikut.\n",
      "count\t\t\t: 2010\n",
      "mean\t\t\t: 7.0871927687138285\n",
      "median\t\t\t: 7.029490455474185\n",
      "modus\t\t\t: 0.2274990502021987\n",
      "standar deviasi\t\t: 1.5728029470456655\n",
      "variansi\t\t: 2.4737091102355304\n",
      "range\t\t\t: 13.7725009497978\n",
      "nilai minimum\t\t: 0.2274990502021987\n",
      "nilai maksimum\t\t: 13.999999999999998\n",
      "Kuartil-0\t\t: 0.2274990502021987\n",
      "Kuartil-1\t\t: 6.09078502142353\n",
      "Kuartil-2\t\t: 7.029490455474185\n",
      "Kuartil-3\t\t: 8.053006240791538\n",
      "Kuartil-4\t\t: 13.999999999999998\n",
      "IQR\t\t\t: 1.9622212193680078\n",
      "skewness\t\t: 0.04853451405270669\n",
      "kurtosis\t\t: 3.622362158216349\n"
     ]
    }
   ],
   "source": [
    "# Ambil kolom pH\n",
    "pH = water_potability[\"pH\"]\n",
    "# Tulis deskripsi statistika dari kolom pH\n",
    "print(\"Deskripsi statistika dari kolom pH adalah sebagai berikut.\")\n",
    "StatisticDescription(pH)"
   ]
  },
  {
   "cell_type": "markdown",
   "metadata": {},
   "source": [
    "#### 3. Hardness"
   ]
  },
  {
   "cell_type": "code",
   "execution_count": 4,
   "metadata": {},
   "outputs": [
    {
     "name": "stdout",
     "output_type": "stream",
     "text": [
      "Deskripsi statistika dari kolom Hardness adalah sebagai berikut.\n",
      "count\t\t\t: 2010\n",
      "mean\t\t\t: 195.96920903783524\n",
      "median\t\t\t: 197.20352491941043\n",
      "modus\t\t\t: 73.4922336890611\n",
      "standar deviasi\t\t: 32.643165859429864\n",
      "variansi\t\t: 1065.5762773262475\n",
      "range\t\t\t: 243.84589036652147\n",
      "nilai minimum\t\t: 73.4922336890611\n",
      "nilai maksimum\t\t: 317.33812405558257\n",
      "Kuartil-0\t\t: 73.4922336890611\n",
      "Kuartil-1\t\t: 176.74065667669896\n",
      "Kuartil-2\t\t: 197.20352491941043\n",
      "Kuartil-3\t\t: 216.44758866727156\n",
      "Kuartil-4\t\t: 317.33812405558257\n",
      "IQR\t\t\t: 39.7069319905726\n",
      "skewness\t\t: -0.08532104172868622\n",
      "kurtosis\t\t: 3.521190648776977\n"
     ]
    }
   ],
   "source": [
    "# Ambil kolom Hardness\n",
    "Hardness = water_potability[\"Hardness\"]\n",
    "# Tulis deskripsi statistika dari kolom Hardness\n",
    "print(\"Deskripsi statistika dari kolom Hardness adalah sebagai berikut.\")\n",
    "StatisticDescription(Hardness)"
   ]
  },
  {
   "cell_type": "markdown",
   "metadata": {},
   "source": [
    "#### 4. Solids"
   ]
  },
  {
   "cell_type": "code",
   "execution_count": 5,
   "metadata": {},
   "outputs": [
    {
     "name": "stdout",
     "output_type": "stream",
     "text": [
      "Deskripsi statistika dari kolom Solids adalah sebagai berikut.\n",
      "count\t\t\t: 2010\n",
      "mean\t\t\t: 21904.673439053095\n",
      "median\t\t\t: 20926.88215534375\n",
      "modus\t\t\t: 320.942611274359\n",
      "standar deviasi\t\t: 8625.397911190576\n",
      "variansi\t\t: 74397489.12637074\n",
      "range\t\t\t: 56167.72980146483\n",
      "nilai minimum\t\t: 320.942611274359\n",
      "nilai maksimum\t\t: 56488.67241273919\n",
      "Kuartil-0\t\t: 320.942611274359\n",
      "Kuartil-1\t\t: 15614.412961614333\n",
      "Kuartil-2\t\t: 20926.88215534375\n",
      "Kuartil-3\t\t: 27170.534648603603\n",
      "Kuartil-4\t\t: 56488.67241273919\n",
      "IQR\t\t\t: 11556.12168698927\n",
      "skewness\t\t: 0.5910113724580447\n",
      "kurtosis\t\t: 3.333498156306705\n"
     ]
    }
   ],
   "source": [
    "# Ambil kolom Solids\n",
    "Solids = water_potability[\"Solids\"]\n",
    "# Tulis deskripsi statistika dari kolom Solids\n",
    "print(\"Deskripsi statistika dari kolom Solids adalah sebagai berikut.\")\n",
    "StatisticDescription(Solids)"
   ]
  },
  {
   "cell_type": "markdown",
   "metadata": {},
   "source": [
    "#### 5. Chloramines"
   ]
  },
  {
   "cell_type": "code",
   "execution_count": 6,
   "metadata": {},
   "outputs": [
    {
     "name": "stdout",
     "output_type": "stream",
     "text": [
      "Deskripsi statistika dari kolom Chloramines adalah sebagai berikut.\n",
      "count\t\t\t: 2010\n",
      "mean\t\t\t: 7.134322344600104\n",
      "median\t\t\t: 7.1420143046226645\n",
      "modus\t\t\t: 1.3908709048851806\n",
      "standar deviasi\t\t: 1.5852140982642102\n",
      "variansi\t\t: 2.512903737335613\n",
      "range\t\t\t: 11.736129095114823\n",
      "nilai minimum\t\t: 1.3908709048851806\n",
      "nilai maksimum\t\t: 13.127000000000002\n",
      "Kuartil-0\t\t: 1.3908709048851806\n",
      "Kuartil-1\t\t: 6.138326387572855\n",
      "Kuartil-2\t\t: 7.1420143046226645\n",
      "Kuartil-3\t\t: 8.109933216133502\n",
      "Kuartil-4\t\t: 13.127000000000002\n",
      "IQR\t\t\t: 1.9716068285606472\n",
      "skewness\t\t: 0.013003497779569528\n",
      "kurtosis\t\t: 3.5454318545555785\n"
     ]
    }
   ],
   "source": [
    "# Ambil kolom Chloramines\n",
    "Chloramines = water_potability[\"Chloramines\"]\n",
    "# Tulis deskripsi statistika dari kolom Chloramines\n",
    "print(\"Deskripsi statistika dari kolom Chloramines adalah sebagai berikut.\")\n",
    "StatisticDescription(Chloramines)"
   ]
  },
  {
   "cell_type": "markdown",
   "metadata": {},
   "source": [
    "#### 6. Sulfate"
   ]
  },
  {
   "cell_type": "code",
   "execution_count": 7,
   "metadata": {},
   "outputs": [
    {
     "name": "stdout",
     "output_type": "stream",
     "text": [
      "Deskripsi statistika dari kolom Sulfate adalah sebagai berikut.\n",
      "count\t\t\t: 2010\n",
      "mean\t\t\t: 333.211376415189\n",
      "median\t\t\t: 332.2141128069568\n",
      "modus\t\t\t: 129.00000000000003\n",
      "standar deviasi\t\t: 41.21111102560979\n",
      "variansi\t\t: 1698.3556719651367\n",
      "range\t\t\t: 352.03064230599716\n",
      "nilai minimum\t\t: 129.00000000000003\n",
      "nilai maksimum\t\t: 481.0306423059972\n",
      "Kuartil-0\t\t: 129.00000000000003\n",
      "Kuartil-1\t\t: 307.6269864860709\n",
      "Kuartil-2\t\t: 332.2141128069568\n",
      "Kuartil-3\t\t: 359.26814739141554\n",
      "Kuartil-4\t\t: 481.0306423059972\n",
      "IQR\t\t\t: 51.641160905344634\n",
      "skewness\t\t: -0.04572780443653543\n",
      "kurtosis\t\t: 3.7819149219038866\n"
     ]
    }
   ],
   "source": [
    "# Ambil kolom Sulfate\n",
    "Sulfate = water_potability[\"Sulfate\"]\n",
    "# Tulis deskripsi statistika dari kolom Sulfate\n",
    "print(\"Deskripsi statistika dari kolom Sulfate adalah sebagai berikut.\")\n",
    "StatisticDescription(Sulfate)"
   ]
  },
  {
   "cell_type": "markdown",
   "metadata": {},
   "source": [
    "#### 7. Conductivity"
   ]
  },
  {
   "cell_type": "code",
   "execution_count": 8,
   "metadata": {},
   "outputs": [
    {
     "name": "stdout",
     "output_type": "stream",
     "text": [
      "Deskripsi statistika dari kolom Conductivity adalah sebagai berikut.\n",
      "count\t\t\t: 2010\n",
      "mean\t\t\t: 426.47670835257907\n",
      "median\t\t\t: 423.43837202443706\n",
      "modus\t\t\t: 201.6197367551575\n",
      "standar deviasi\t\t: 80.70187180729437\n",
      "variansi\t\t: 6512.792113200973\n",
      "range\t\t\t: 551.7228828031471\n",
      "nilai minimum\t\t: 201.6197367551575\n",
      "nilai maksimum\t\t: 753.3426195583046\n",
      "Kuartil-0\t\t: 201.6197367551575\n",
      "Kuartil-1\t\t: 366.61921929632433\n",
      "Kuartil-2\t\t: 423.43837202443706\n",
      "Kuartil-3\t\t: 482.2097724598859\n",
      "Kuartil-4\t\t: 753.3426195583046\n",
      "IQR\t\t\t: 115.5905531635616\n",
      "skewness\t\t: 0.26801233302645316\n",
      "kurtosis\t\t: 2.760400057844864\n"
     ]
    }
   ],
   "source": [
    "# Ambil kolom Conductivity\n",
    "Conductivity = water_potability[\"Conductivity\"]\n",
    "# Tulis deskripsi statistika dari kolom Conductivity\n",
    "print(\"Deskripsi statistika dari kolom Conductivity adalah sebagai berikut.\")\n",
    "StatisticDescription(Conductivity)"
   ]
  },
  {
   "cell_type": "markdown",
   "metadata": {},
   "source": [
    "#### 8. OrganicCarbon"
   ]
  },
  {
   "cell_type": "code",
   "execution_count": 9,
   "metadata": {},
   "outputs": [
    {
     "name": "stdout",
     "output_type": "stream",
     "text": [
      "Deskripsi statistika dari kolom OrganicCarbon adalah sebagai berikut.\n",
      "count\t\t\t: 2010\n",
      "mean\t\t\t: 14.357939902048074\n",
      "median\t\t\t: 14.323285610653329\n",
      "modus\t\t\t: 2.1999999999999886\n",
      "standar deviasi\t\t: 3.3257700016987197\n",
      "variansi\t\t: 11.060746104199103\n",
      "range\t\t\t: 24.80670661116602\n",
      "nilai minimum\t\t: 2.1999999999999886\n",
      "nilai maksimum\t\t: 27.00670661116601\n",
      "Kuartil-0\t\t: 2.1999999999999886\n",
      "Kuartil-1\t\t: 12.122530374047727\n",
      "Kuartil-2\t\t: 14.323285610653329\n",
      "Kuartil-3\t\t: 16.683561746173808\n",
      "Kuartil-4\t\t: 27.00670661116601\n",
      "IQR\t\t\t: 4.561031372126081\n",
      "skewness\t\t: -0.02021975629181238\n",
      "kurtosis\t\t: 3.027957691493332\n"
     ]
    }
   ],
   "source": [
    "# Ambil kolom OrganicCarbon\n",
    "OrganicCarbon = water_potability[\"OrganicCarbon\"]\n",
    "# Tulis deskripsi statistika dari kolom OrganicCarbon\n",
    "print(\"Deskripsi statistika dari kolom OrganicCarbon adalah sebagai berikut.\")\n",
    "StatisticDescription(OrganicCarbon)"
   ]
  },
  {
   "cell_type": "markdown",
   "metadata": {},
   "source": [
    "#### 9. Trihalomethanes"
   ]
  },
  {
   "cell_type": "code",
   "execution_count": 10,
   "metadata": {},
   "outputs": [
    {
     "name": "stdout",
     "output_type": "stream",
     "text": [
      "Deskripsi statistika dari kolom Trihalomethanes adalah sebagai berikut.\n",
      "count\t\t\t: 2010\n",
      "mean\t\t\t: 66.40071666307466\n",
      "median\t\t\t: 66.48204080309809\n",
      "modus\t\t\t: 8.577012932983806\n",
      "standar deviasi\t\t: 16.08110898232513\n",
      "variansi\t\t: 258.60206610141796\n",
      "range\t\t\t: 115.4229870670162\n",
      "nilai minimum\t\t: 8.577012932983806\n",
      "nilai maksimum\t\t: 124.0\n",
      "Kuartil-0\t\t: 8.577012932983806\n",
      "Kuartil-1\t\t: 55.94999302803186\n",
      "Kuartil-2\t\t: 66.48204080309809\n",
      "Kuartil-3\t\t: 77.2946128060674\n",
      "Kuartil-4\t\t: 124.0\n",
      "IQR\t\t\t: 21.344619778035543\n",
      "skewness\t\t: -0.05138268451619478\n",
      "kurtosis\t\t: 3.2194788089667044\n"
     ]
    }
   ],
   "source": [
    "# Ambil kolom Trihalomethanes\n",
    "Trihalomethanes = water_potability[\"Trihalomethanes\"]\n",
    "# Tulis deskripsi statistika dari kolom Trihalomethanes\n",
    "print(\"Deskripsi statistika dari kolom Trihalomethanes adalah sebagai berikut.\")\n",
    "StatisticDescription(Trihalomethanes)"
   ]
  },
  {
   "cell_type": "markdown",
   "metadata": {},
   "source": [
    "#### 10. Turbidity"
   ]
  },
  {
   "cell_type": "code",
   "execution_count": 11,
   "metadata": {},
   "outputs": [
    {
     "name": "stdout",
     "output_type": "stream",
     "text": [
      "Deskripsi statistika dari kolom Turbidity adalah sebagai berikut.\n",
      "count\t\t\t: 2010\n",
      "mean\t\t\t: 3.9694969126303676\n",
      "median\t\t\t: 3.967373963531836\n",
      "modus\t\t\t: 1.45\n",
      "standar deviasi\t\t: 0.7804710407083957\n",
      "variansi\t\t: 0.6091350453844462\n",
      "range\t\t\t: 5.044748555990993\n",
      "nilai minimum\t\t: 1.45\n",
      "nilai maksimum\t\t: 6.494748555990993\n",
      "Kuartil-0\t\t: 1.45\n",
      "Kuartil-1\t\t: 3.442881623557439\n",
      "Kuartil-2\t\t: 3.967373963531836\n",
      "Kuartil-3\t\t: 4.5146627202018825\n",
      "Kuartil-4\t\t: 6.494748555990993\n",
      "IQR\t\t\t: 1.0717810966444437\n",
      "skewness\t\t: -0.03226597968019271\n",
      "kurtosis\t\t: 2.9473094836957947\n"
     ]
    }
   ],
   "source": [
    "# Ambil kolom Turbidity\n",
    "Turbidity = water_potability[\"Turbidity\"]\n",
    "# Tulis deskripsi statistika dari kolom Turbidity\n",
    "print(\"Deskripsi statistika dari kolom Turbidity adalah sebagai berikut.\")\n",
    "StatisticDescription(Turbidity)"
   ]
  },
  {
   "cell_type": "markdown",
   "metadata": {},
   "source": [
    "#### 11. Potability <br />"
   ]
  },
  {
   "cell_type": "markdown",
   "metadata": {},
   "source": [
    "Pada potability, tidak perlu ditulis deskripsi statistikanya, karena potability hanya merepresentasikan potability dari suatu water dan tidak bisa dihitung deskripsi statistikanya atau dengan kata lain kolom ini bukan merupakan kolom numerik"
   ]
  },
  {
   "cell_type": "markdown",
   "metadata": {},
   "source": [
    "### Penjelasan Tambahan :\n",
    "Dari hasil pemanggilan fungsi mode() pada dataframe, dapat disimpulkan bahwa tidak semua kolom memiliki modus singular. Adapun untuk daftar modusnya dapat dilihat pada tabel berikut."
   ]
  },
  {
   "cell_type": "code",
   "execution_count": 12,
   "metadata": {},
   "outputs": [
    {
     "data": {
      "text/html": [
       "<div>\n",
       "<style scoped>\n",
       "    .dataframe tbody tr th:only-of-type {\n",
       "        vertical-align: middle;\n",
       "    }\n",
       "\n",
       "    .dataframe tbody tr th {\n",
       "        vertical-align: top;\n",
       "    }\n",
       "\n",
       "    .dataframe thead th {\n",
       "        text-align: right;\n",
       "    }\n",
       "</style>\n",
       "<table border=\"1\" class=\"dataframe\">\n",
       "  <thead>\n",
       "    <tr style=\"text-align: right;\">\n",
       "      <th></th>\n",
       "      <th>id</th>\n",
       "      <th>pH</th>\n",
       "      <th>Hardness</th>\n",
       "      <th>Solids</th>\n",
       "      <th>Chloramines</th>\n",
       "      <th>Sulfate</th>\n",
       "      <th>Conductivity</th>\n",
       "      <th>OrganicCarbon</th>\n",
       "      <th>Trihalomethanes</th>\n",
       "      <th>Turbidity</th>\n",
       "      <th>Potability</th>\n",
       "    </tr>\n",
       "  </thead>\n",
       "  <tbody>\n",
       "    <tr>\n",
       "      <th>0</th>\n",
       "      <td>1</td>\n",
       "      <td>0.227499</td>\n",
       "      <td>73.492234</td>\n",
       "      <td>320.942611</td>\n",
       "      <td>1.390871</td>\n",
       "      <td>129.000000</td>\n",
       "      <td>201.619737</td>\n",
       "      <td>2.200000</td>\n",
       "      <td>8.577013</td>\n",
       "      <td>1.450000</td>\n",
       "      <td>0.0</td>\n",
       "    </tr>\n",
       "    <tr>\n",
       "      <th>1</th>\n",
       "      <td>2</td>\n",
       "      <td>0.989912</td>\n",
       "      <td>77.459586</td>\n",
       "      <td>1198.943699</td>\n",
       "      <td>1.920271</td>\n",
       "      <td>180.206746</td>\n",
       "      <td>210.319182</td>\n",
       "      <td>4.371899</td>\n",
       "      <td>14.343161</td>\n",
       "      <td>1.492207</td>\n",
       "      <td>NaN</td>\n",
       "    </tr>\n",
       "    <tr>\n",
       "      <th>2</th>\n",
       "      <td>3</td>\n",
       "      <td>1.431782</td>\n",
       "      <td>81.710895</td>\n",
       "      <td>1351.906979</td>\n",
       "      <td>2.397985</td>\n",
       "      <td>182.397370</td>\n",
       "      <td>233.907965</td>\n",
       "      <td>4.466772</td>\n",
       "      <td>15.684877</td>\n",
       "      <td>1.496101</td>\n",
       "      <td>NaN</td>\n",
       "    </tr>\n",
       "    <tr>\n",
       "      <th>3</th>\n",
       "      <td>4</td>\n",
       "      <td>1.757037</td>\n",
       "      <td>94.091307</td>\n",
       "      <td>1372.091043</td>\n",
       "      <td>2.456014</td>\n",
       "      <td>187.170714</td>\n",
       "      <td>245.859632</td>\n",
       "      <td>4.861631</td>\n",
       "      <td>16.291505</td>\n",
       "      <td>1.680554</td>\n",
       "      <td>NaN</td>\n",
       "    </tr>\n",
       "    <tr>\n",
       "      <th>4</th>\n",
       "      <td>5</td>\n",
       "      <td>1.985383</td>\n",
       "      <td>94.812545</td>\n",
       "      <td>2552.962804</td>\n",
       "      <td>2.458609</td>\n",
       "      <td>187.424131</td>\n",
       "      <td>252.968328</td>\n",
       "      <td>4.966862</td>\n",
       "      <td>17.527765</td>\n",
       "      <td>1.812529</td>\n",
       "      <td>NaN</td>\n",
       "    </tr>\n",
       "    <tr>\n",
       "      <th>...</th>\n",
       "      <td>...</td>\n",
       "      <td>...</td>\n",
       "      <td>...</td>\n",
       "      <td>...</td>\n",
       "      <td>...</td>\n",
       "      <td>...</td>\n",
       "      <td>...</td>\n",
       "      <td>...</td>\n",
       "      <td>...</td>\n",
       "      <td>...</td>\n",
       "      <td>...</td>\n",
       "    </tr>\n",
       "    <tr>\n",
       "      <th>2005</th>\n",
       "      <td>2006</td>\n",
       "      <td>11.568768</td>\n",
       "      <td>286.567991</td>\n",
       "      <td>50793.898917</td>\n",
       "      <td>12.580026</td>\n",
       "      <td>458.441072</td>\n",
       "      <td>666.690618</td>\n",
       "      <td>23.569645</td>\n",
       "      <td>114.034946</td>\n",
       "      <td>6.307678</td>\n",
       "      <td>NaN</td>\n",
       "    </tr>\n",
       "    <tr>\n",
       "      <th>2006</th>\n",
       "      <td>2007</td>\n",
       "      <td>11.898078</td>\n",
       "      <td>287.975540</td>\n",
       "      <td>53735.899194</td>\n",
       "      <td>12.626900</td>\n",
       "      <td>460.107069</td>\n",
       "      <td>669.725086</td>\n",
       "      <td>23.604298</td>\n",
       "      <td>114.208671</td>\n",
       "      <td>6.357439</td>\n",
       "      <td>NaN</td>\n",
       "    </tr>\n",
       "    <tr>\n",
       "      <th>2007</th>\n",
       "      <td>2008</td>\n",
       "      <td>12.246928</td>\n",
       "      <td>300.292476</td>\n",
       "      <td>55334.702799</td>\n",
       "      <td>12.653362</td>\n",
       "      <td>475.737460</td>\n",
       "      <td>695.369528</td>\n",
       "      <td>23.917601</td>\n",
       "      <td>116.161622</td>\n",
       "      <td>6.389161</td>\n",
       "      <td>NaN</td>\n",
       "    </tr>\n",
       "    <tr>\n",
       "      <th>2008</th>\n",
       "      <td>2009</td>\n",
       "      <td>13.349889</td>\n",
       "      <td>306.627481</td>\n",
       "      <td>56351.396304</td>\n",
       "      <td>13.043806</td>\n",
       "      <td>476.539717</td>\n",
       "      <td>708.226364</td>\n",
       "      <td>24.755392</td>\n",
       "      <td>120.030077</td>\n",
       "      <td>6.494249</td>\n",
       "      <td>NaN</td>\n",
       "    </tr>\n",
       "    <tr>\n",
       "      <th>2009</th>\n",
       "      <td>2010</td>\n",
       "      <td>14.000000</td>\n",
       "      <td>317.338124</td>\n",
       "      <td>56488.672413</td>\n",
       "      <td>13.127000</td>\n",
       "      <td>481.030642</td>\n",
       "      <td>753.342620</td>\n",
       "      <td>27.006707</td>\n",
       "      <td>124.000000</td>\n",
       "      <td>6.494749</td>\n",
       "      <td>NaN</td>\n",
       "    </tr>\n",
       "  </tbody>\n",
       "</table>\n",
       "<p>2010 rows × 11 columns</p>\n",
       "</div>"
      ],
      "text/plain": [
       "        id         pH    Hardness        Solids  Chloramines     Sulfate  \\\n",
       "0        1   0.227499   73.492234    320.942611     1.390871  129.000000   \n",
       "1        2   0.989912   77.459586   1198.943699     1.920271  180.206746   \n",
       "2        3   1.431782   81.710895   1351.906979     2.397985  182.397370   \n",
       "3        4   1.757037   94.091307   1372.091043     2.456014  187.170714   \n",
       "4        5   1.985383   94.812545   2552.962804     2.458609  187.424131   \n",
       "...    ...        ...         ...           ...          ...         ...   \n",
       "2005  2006  11.568768  286.567991  50793.898917    12.580026  458.441072   \n",
       "2006  2007  11.898078  287.975540  53735.899194    12.626900  460.107069   \n",
       "2007  2008  12.246928  300.292476  55334.702799    12.653362  475.737460   \n",
       "2008  2009  13.349889  306.627481  56351.396304    13.043806  476.539717   \n",
       "2009  2010  14.000000  317.338124  56488.672413    13.127000  481.030642   \n",
       "\n",
       "      Conductivity  OrganicCarbon  Trihalomethanes  Turbidity  Potability  \n",
       "0       201.619737       2.200000         8.577013   1.450000         0.0  \n",
       "1       210.319182       4.371899        14.343161   1.492207         NaN  \n",
       "2       233.907965       4.466772        15.684877   1.496101         NaN  \n",
       "3       245.859632       4.861631        16.291505   1.680554         NaN  \n",
       "4       252.968328       4.966862        17.527765   1.812529         NaN  \n",
       "...            ...            ...              ...        ...         ...  \n",
       "2005    666.690618      23.569645       114.034946   6.307678         NaN  \n",
       "2006    669.725086      23.604298       114.208671   6.357439         NaN  \n",
       "2007    695.369528      23.917601       116.161622   6.389161         NaN  \n",
       "2008    708.226364      24.755392       120.030077   6.494249         NaN  \n",
       "2009    753.342620      27.006707       124.000000   6.494749         NaN  \n",
       "\n",
       "[2010 rows x 11 columns]"
      ]
     },
     "execution_count": 12,
     "metadata": {},
     "output_type": "execute_result"
    }
   ],
   "source": [
    "water_potability.mode(axis=0, numeric_only=True ,dropna=True)"
   ]
  },
  {
   "cell_type": "markdown",
   "metadata": {},
   "source": [
    "---\n",
    "### 2. Membuat Visualisasi plot distribusi, dalam bentuk histogram dan boxplot untuk setiap kolom numerik. Berikan uraian penjelasan kondisi setiap kolom berdasarkan kedua plot tersebut"
   ]
  },
  {
   "cell_type": "code",
   "execution_count": 13,
   "metadata": {},
   "outputs": [
    {
     "data": {
      "image/png": "[encoded data removed]",
      "text/plain": [
       "<Figure size 1080x1440 with 10 Axes>"
      ]
     },
     "metadata": {
      "needs_background": "light"
     },
     "output_type": "display_data"
    }
   ],
   "source": [
    "fig, axs = plt.subplots(5, 2, figsize=(15,20))\n",
    "sns.histplot(water_potability[\"pH\"], kde =True, ax=axs[0,0])\n",
    "sns.histplot(water_potability[\"Hardness\"], kde =True, ax=axs[1,0])\n",
    "sns.histplot(water_potability[\"Solids\"], kde =True, ax=axs[2,0])\n",
    "sns.histplot(water_potability[\"Chloramines\"], kde =True, ax=axs[3,0])\n",
    "sns.histplot(water_potability[\"Sulfate\"], kde =True, ax = axs[4,0])\n",
    "sns.histplot(water_potability[\"Conductivity\"], kde =True, ax=axs[0,1])\n",
    "sns.histplot(water_potability[\"OrganicCarbon\"], kde =True, ax=axs[1,1])\n",
    "sns.histplot(water_potability[\"Trihalomethanes\"], kde =True, ax=axs[2,1])\n",
    "sns.histplot(water_potability[\"Turbidity\"], kde =True, ax=axs[3,1])\n",
    "plt.show()"
   ]
  },
  {
   "cell_type": "code",
   "execution_count": 14,
   "metadata": {},
   "outputs": [
    {
     "data": {
      "image/png": "[encoded data removed]",
      "text/plain": [
       "<Figure size 1080x1440 with 10 Axes>"
      ]
     },
     "metadata": {
      "needs_background": "light"
     },
     "output_type": "display_data"
    }
   ],
   "source": [
    "fig, axs = plt.subplots(5, 2, figsize=(15,20))\n",
    "water_potability.boxplot(\"pH\", ax=axs[0,0])\n",
    "water_potability.boxplot(\"Hardness\", ax=axs[1,0])\n",
    "water_potability.boxplot(\"Solids\", ax=axs[2,0])\n",
    "water_potability.boxplot(\"Chloramines\", ax=axs[3,0])\n",
    "water_potability.boxplot(\"Sulfate\", ax=axs[4,0])\n",
    "water_potability.boxplot(\"Conductivity\", ax=axs[0,1])\n",
    "water_potability.boxplot(\"OrganicCarbon\", ax=axs[1,1])\n",
    "water_potability.boxplot(\"Trihalomethanes\", ax=axs[2,1])\n",
    "water_potability.boxplot(\"Turbidity\", ax=axs[3,1])\n",
    "plt.show()"
   ]
  },
  {
   "cell_type": "markdown",
   "metadata": {},
   "source": [
    "Penjelasan No 2"
   ]
  },
  {
   "cell_type": "markdown",
   "metadata": {},
   "source": [
    "##### 1. id\n",
    "\n",
    "id hanyalah pembeda dari setiap row pada data, sehingga tidak perlu dilakukan visualisasi terhadap kolom id karena bukan kolom numerik\n",
    "\n",
    "##### 2. pH\n",
    "\n",
    "Histogram menunjukan bahwa distribusi kolom pH mendekati distribusi normal yang dapat dilihat juga kolom pH memiliki nilai skewness yang cukup kecil yaitu 0.048535. \n",
    "Berdasarkan Boxplot di atas dapat diketahui nilai minimum di sekitar 3, nilai Q1 di sekitar 6, nilai Q2 di sekitar 7, nilai Q3 di sekitar 8, dan nilai maksimum di sekitar 11. Pada boxplot didapatkan juga bahwa garis median tepat di tengah box, whisker atas boxplot sama panjang dengan whisker bawah, dan terdapat banyak outlier di bagian atas dan bawah boxplot.\n",
    "\n",
    "##### 3. Hardness\n",
    "\n",
    "Histogram menunjukan bahwa distribusi data kolom Hardness mendekati distribusi normal yang dapat dilihat juga kolom Hardness memiliki nilai skewness yang cukup kecil yaitu -0.085321.\n",
    "Berdasarkan Boxplot di atas dapat diketahui nilai minimum di sekitar 118, nilai Q1 di sekitar 177, nilai Q2 atau median di sekitar 197, nilai Q3 di sekitar 216, dan nilai maksimum di sekitar 276. Pada boxplot didapatkan juga bahwa garis median tepat di tengah box dan whisker atas hampir sama panjang dengan whisker bawah dan terdapat banyak outlier di bagian atas dan bawah.\n",
    "\n",
    "##### 4. Solids\n",
    "\n",
    "Histogram menunjukan bahwa distribusi data kolom Solids cenderung skew positif yang dapat dilihat juga kolom Solids memiliki nilai skewness 0.591011. \n",
    "Berdasarkan Boxplot di atas dapat diketahui nilai minimum di sekitar 300, nilai Q1 di sekitar 16000, nilai Q2 atau median di sekitar 21000, nilai Q3 di sekitar 27000, dan nilai maksimum di sekitar 45000. Pada boxplot juga didapatkan bahwa garis median sedikit ke bawah box dan whisker atas sedikit lebih panjang dari whisker bawah dan terdapat banyak outlier(pencilan) di bagian atas.\n",
    "\n",
    "##### 5. Chloramines\n",
    "\n",
    "Histogram menunjukan bahwa distribusi data kolom Chloramines mendekati distribusi normal yang dapat dilihat juga kolom Chloramines memiliki nilai skewness 0.013003. \n",
    "Berdasarkan Boxplot di atas dapat diketahui nilai minimum di sekitar 3, nilai Q1 di sekitar 6, nilai Q2 atau median di sekitar 7, nilai Q3 di sekitar 8, dan nilai maksimum di sekitar 11. Pada boxplot didapatkan bahwa garis median tepat di tengah box dan whisker atas sama panjang dengan whisker bawah dan terdapat banyak outlier di bagian atas dan bawah.\n",
    "\n",
    "##### 6. Sulfate\n",
    "\n",
    "Histogram menunjukan bahwa distribusi data kolom Sulfate mendekati distribusi normal yang dapat dilihat juga kolom Sulfate memiliki nilai skewness -0.045728.\n",
    "Berdasarkan Boxplot di atas dapat diketahui nilai minimum di sekitar 231, nilai Q1 di sekitar 307, nilai Q2 atau median di sekitar 332, nilai Q3 di sekitar 359, dan nilai maksimum di sekitar 436. Pada boxplot didapatkan juga bahwa garis median tepat di tengah box dan whisker atas sama panjang dengan whisker bawah dan terdapat banyak outlier(pencilan) di bagian atas dan bawah.\n",
    "\n",
    "##### 7. Conductivity\n",
    "\n",
    "Histogram menunjukan bahwa distribusi data kolom Conductivity sedikit skew positif yang dapat dilihat juga kolom Conductivity memiliki nilai skewness 0.268012.\n",
    "Berdasarkan Boxplot di atas dapat diketahui nilai minimum di sekitar 202, nilai Q1 di sekitar 367, nilai Q2 atau median di sekitar 423, nilai Q3 di sekitar 482, dan nilai maksimum di sekitar 652. Pada boxplot didapatkan bahwa garis median tepat di tengah box dan whisker atas hampir sama panjang dengan whisker bawah dan terdapat outlier di bagian atas.\n",
    "\n",
    "##### 8. OrganicCarbon\n",
    "\n",
    "Histogram menunjukan bahwa distribusi data kolom OrganicCarbon mendekati distribusi normal yang dapat dilihat juga kolom OrganicCarbon memiliki nilai skewness -0.020220. \n",
    "Berdasarkan Boxplot di atas dapat diketahui nilai minimum di sekitar 5.3, nilai Q1 di sekitar 12,1, nilai Q2 atau median di sekitar 14,3, nilai Q3 di sekitar 16,7, dan nilai maksimum di sekitar 23,4. Pada boxplot didapatkan bahwa garis median tepat di tengah box dan whisker atas hampir sama panjang dengan whisker bawah dan terdapat sedikit outlier di atas dan bawah.\n",
    "\n",
    "##### 9. Trihalomethanes\n",
    "\n",
    "Histogram menunjukan menunjukan bahwa distribusi data kolom Trihalomethanes mendekati distribusi normal yang dapat dilihat juga kolom Trihalomethanes memiliki nilai skewness -0.051383\n",
    "Berdasarkan Boxplot di atas dapat diketahui nilai minimum di sekitar 24.5, nilai Q1 di sekitar 56, nilai Q2 atau median di sekitar 66,4, nilai Q3 di sekitar 77,3, dan nilai maksimum di sekitar 108.9. Pada boxplot didapatkan bahwa garis median tepat di tengah box dan whisker atas sama panjang dengan whisker bawah dan terdapat sedikit outlier di atas dan bawah.\n",
    "\n",
    "##### 10. Turbidity\n",
    "\n",
    "Histogram menunjukan enunjukan bahwa distribusi data kolom Turbidity mendekati distribusi normal yang dapat dilihat juga kolom Turbidity memiliki nilai skewness -0.032266. \n",
    "Berdasarkan Boxplot di atas dapat diketahui nilai minimum di sekitar 1,8, nilai Q1 di sekitar 3,4, nilai Q2 atau median di sekitar 4, nilai Q3 di sekitar 4,5, dan nilai maksimum di sekitar 6. Pada boxplot didapatkan bahwa garis median tepat di tengah box dan whisker atas sama panjang dengan whisker bawah dan terdapat sedikit outlier di atas dan bawah.\n",
    "\n",
    "##### 11. Potability\n",
    "\n",
    "Potability hanya berisi nilai 1 dan 0, sehingga tidak perlu dilakukan visualisasi terhadap kolom Potability karena bukan merupakan kolom numerik"
   ]
  },
  {
   "cell_type": "markdown",
   "metadata": {},
   "source": [
    "---\n",
    "### 3. Menentukan setiap kolom numerik berdistribusi normal atau tidak. Gunakan normality test yang dikaitkan dengan histogram plot."
   ]
  },
  {
   "cell_type": "code",
   "execution_count": 15,
   "metadata": {},
   "outputs": [
    {
     "name": "stdout",
     "output_type": "stream",
     "text": [
      "pH tidak terdistribusi normal\n",
      "Hardness tidak terdistribusi normal\n",
      "Solids tidak terdistribusi normal\n",
      "Chloramines tidak terdistribusi normal\n",
      "Sulfate tidak terdistribusi normal\n",
      "Conductivity tidak terdistribusi normal\n",
      "OrganicCarbon terdistribusi normal\n",
      "Trihalomethanes terdistribusi normal\n",
      "Turbidity terdistribusi normal\n"
     ]
    }
   ],
   "source": [
    "#digunakan normality test scipy\n",
    "# berdasarkan perhitungan normality test\n",
    "for i in columnsName:\n",
    "    if(i != \"id\" and i != \"Potability\"):\n",
    "        k2, p = scipy.stats.normaltest(water_potability[i])\n",
    "        if (p < 0.05):\n",
    "            print(i,\"tidak terdistribusi normal\")\n",
    "        else:\n",
    "            print(i,\"terdistribusi normal\")"
   ]
  },
  {
   "cell_type": "markdown",
   "metadata": {},
   "source": [
    "---"
   ]
  },
  {
   "cell_type": "markdown",
   "metadata": {},
   "source": [
    "##### 1. id\n",
    "\n",
    "id hanyalah pembeda dari setiap row pada data, id bukanlah kolom numerik sehingga tidak dilakukan analisa / normality test\n",
    "\n",
    "##### 2. pH\n",
    "\n",
    "Berdasarkan histogram plotnya terlihat bahwa histrogam dapat diasumsikan terdistribusi normal. Tapi asumsi ini dibantah karena berdasarkan normality Test didapatkan kesimpulan data tidak terdistribusi normal hal ini dikarenakan data pH memiliki banyak pencilan di atas dan bawah pada boxplot. Sehingga kesimpulannnya data pada kolom pH tidak terdistribusi normal\n",
    "\n",
    "##### 3. Hardness\n",
    "\n",
    "Berdasarkan histogram plotnya terlihat bahwa histrogam dapat diasumsikan terdistribusi normal. Tapi asumsi ini dibantah karena berdasarkan normality Test didapatkan kesimpulan data tidak terdistribusi normal hal ini dikarenakan data Hardness memiliki banyak pencilan di atas dan bawah pada boxplot. Sehingga kesimpulannnya data pada kolom Hardness tidak terdistribusi normal\n",
    "\n",
    "##### 4. Solids\n",
    "\n",
    "Berdasarkan histogram plotnya terlihat bahwa histrogam dapat diasumsikan terdistribusi normal. Tapi asumsi ini dibantah karena berdasarkan normality Test didapatkan kesimpulan data tidak terdistribusi normal hal ini dikarenakan data Solids memiliki banyak pencilan di atas boxplot. Sehingga kesimpulannnya data pada kolom Solids tidak terdistribusi normal\n",
    "\n",
    "##### 5. Chloramines\n",
    "\n",
    "Berdasarkan histogram plotnya terlihat bahwa histrogam dapat diasumsikan tidak terdistribusi normal dikarenakan data cenderung skew positif dan mempunyai banyak outlier(pencilan) di atas bloxpot. hal ini diperkuat berdasarkan normality test didapatkan kesimpulan data tidak terdistribusi normal. Sehingga kesimpulannnya data pada kolom Chloramines tidak terdistribusi normal\n",
    "\n",
    "##### 6. Sulfate\n",
    "\n",
    "Berdasarkan histogram plotnya terlihat bahwa histrogam dapat diasumsikan terdistribusi normal. Tapi asumsi ini dibantah karena berdasarkan normality Test didapatkan kesimpulan data tidak terdistribusi normal hal ini dikarenakan data Sulfate memiliki banyak pencilan di atas dan bawah pada boxplot. Sehingga kesimpulannnya data pada kolom Sulfate tidak terdistribusi normal\n",
    "\n",
    "##### 7. Conductivity\n",
    "\n",
    "Berdasarkan histogram plotnya terlihat bahwa histrogam dapat diasumsikan tidak terdistribusi normal dikarenakan data cenderung skew positif dan mempunyai banyak outlier(pencilan) di atas bloxpot. hal ini diperkuat berdasarkan normality test didapatkan kesimpulan data tidak terdistribusi normal. Sehingga kesimpulannnya data pada kolom Conductivity tidak terdistribusi normal\n",
    "\n",
    "##### 8. OrganicCarbon\n",
    "\n",
    "Berdasarkan histogram plotnya terlihat bahwa histrogam dapat diasumsikan terdistribusi normal. hal ini diperkuat berdasarkan normality test didapatkan kesimpulan data terdistribusi normal. Sehingga kesimpulannnya data pada kolom OrganicCarbon terdistribusi normal\n",
    "\n",
    "##### 9. Trihalomethanes\n",
    "\n",
    "Berdasarkan histogram plotnya terlihat bahwa histrogam dapat diasumsikan terdistribusi normal. hal ini diperkuat berdasarkan normality test didapatkan kesimpulan data terdistribusi normal. Sehingga kesimpulannnya data pada kolom Trihalomethanes terdistribusi normal\n",
    "\n",
    "##### 10. Turbidity\n",
    "\n",
    "Berdasarkan histogram plotnya terlihat bahwa histrogam dapat diasumsikan terdistribusi normal. hal ini diperkuat berdasarkan normality test didapatkan kesimpulan data terdistribusi normal. Sehingga kesimpulannnya data pada kolom Turbidity terdistribusi normal\n",
    "\n",
    "##### 11. Potability\n",
    "\n",
    "Pada Potability data tidak tersebar merata(data hanya terdiri dari nilai 0 dan 1) dan bukan merupakan kolom numerik. Sehingga tidak perlu dilakukan analisa / normality test\n"
   ]
  },
  {
   "cell_type": "markdown",
   "metadata": {},
   "source": [
    "Didapatkan data yang terdistribusi normal adalah OrganicCarbon, Trihalomethanes, dan Turbidity"
   ]
  },
  {
   "cell_type": "markdown",
   "metadata": {},
   "source": [
    "---"
   ]
  },
  {
   "cell_type": "markdown",
   "metadata": {},
   "source": [
    "### 4. Melakukan test hipotesis 1 sampel, dengan menuliskan 6 langkah testing dan menampilkan juga boxplotnya untuk kolom/bagian yang bersesuaian"
   ]
  },
  {
   "cell_type": "markdown",
   "metadata": {},
   "source": [
    "**Enam Langkah Testing:** <br />\n",
    "<br>\n",
    "1. Tentukan Hipotesis nol (H0: θ = θ0), dimana θ bisa berupa μ, σ2, p, atau data lain berdistribusi tertentu (normal, binomial, dsc.).\n",
    "2. Pilih hipotesis alternatif H1 salah dari dari θ > θ0 , θ < θ0 , atau θ ≠ θ0.\n",
    "3. Tentukan tingkat signifikan α.\n",
    "4. Tentukan uji statistik yang sesuai dan tentukan daerah kritis.\n",
    "5. Hitung nilai uji statistik dari data sample. Hitung p-value sesuai dengan uji statistik yang digunakan.\n",
    "6. Ambil keputusan dengan TOLAK H0 jika nilai uji terletak di daerah kritis atau dengan tes signifikan, TOLAK H0 jika p-value lebih kecil dibanding tingkat signifikansi α yang diinginkan"
   ]
  },
  {
   "cell_type": "code",
   "execution_count": 16,
   "metadata": {},
   "outputs": [],
   "source": [
    "def Z_testStatistic(x̄,μ0,σ,root_n):\n",
    "    return (float)(x̄-μ0)/(σ/root_n)\n",
    "def Z_testStatistic_bigN(p̂,p0,q0,n):\n",
    "    return (float)(p̂-p0)/np.sqrt(p0*q0/n)\n",
    "def T_testStatistic(x̄,μ0,s,root_n):\n",
    "    return (float)(x̄-μ0)/(s/root_n)"
   ]
  },
  {
   "cell_type": "markdown",
   "metadata": {},
   "source": [
    "**Asumsi yang digunakan :** \n",
    "<br /> <br />\n",
    "Sampel yang dicek sejumlah 2010 dimana 2010 data tersebut juga merupakan populasi (sampel yang dicek sekaligus populasi). Karena itu digunakan uji statistik distribusi Z untuk satu mean dengan standar deviasi populasi diketahui."
   ]
  },
  {
   "cell_type": "markdown",
   "metadata": {},
   "source": [
    "#### A. Nilai Rata-rata pH di atas 7? <br />"
   ]
  },
  {
   "cell_type": "code",
   "execution_count": 17,
   "metadata": {},
   "outputs": [
    {
     "name": "stdout",
     "output_type": "stream",
     "text": [
      "Nilai rata-rata pH di atas 7 ?\n",
      "1. H0 : μ=7\n",
      "2. H1 : μ>7\n",
      "3. α = 0.05\n",
      "4. Uji Statistik : z=(x̄-μ0)/(σ/root_n), σ diketahui\n",
      "   Daerah Kritis : z>zα : z >1.645\n",
      "5. Komputasi\n",
      "   x̄ : 7.0871927687138285 \n",
      "   root_n: 44.83302354291979 \n",
      "   σ: 1.5728029470456655 \n",
      "   μ0 : 7\n",
      "   p_value : 0.006477571731867804 \n",
      "   z: 2.485\n",
      "6. Test Daerah Kritis\n",
      "   Tolak H0 karena nilai uji = 2.485>1.645 (z>zα)\n",
      "   Rata-Rata pH di atas 7\n"
     ]
    },
    {
     "data": {
      "text/plain": [
       "Text(0.5, 1.0, 'BoxPlot pH')"
      ]
     },
     "execution_count": 17,
     "metadata": {},
     "output_type": "execute_result"
    },
    {
     "data": {
      "image/png": "[encoded data removed]",
      "text/plain": [
       "<Figure size 432x576 with 1 Axes>"
      ]
     },
     "metadata": {
      "needs_background": "light"
     },
     "output_type": "display_data"
    }
   ],
   "source": [
    "print(\"Nilai rata-rata pH di atas 7 ?\")\n",
    "\n",
    "# Langkah 1\n",
    "H0 = \"μ=7\"\n",
    "print(\"1. H0 : {}\".format(H0))\n",
    "\n",
    "# Langkah 2\n",
    "H1 = \"μ>7\"\n",
    "print(\"2. H1 : {}\".format(H1))\n",
    "\n",
    "# Langkah 3\n",
    "α = 5e-2\n",
    "print(\"3. α = {}\".format(α))\n",
    "\n",
    "# Langkah 4\n",
    "zα = round(scipy.stats.norm.ppf(1-α),3)\n",
    "print(\"4. Uji Statistik : z=(x̄-μ0)/(σ/root_n), σ diketahui\")\n",
    "print(\"   Daerah Kritis : z>zα : z >{}\".format(zα))\n",
    "\n",
    "# Langkah 5\n",
    "x̄ = pH.mean()\n",
    "μ0= 7\n",
    "σ = pH.std()\n",
    "root_n = np.sqrt(len(pH))\n",
    "z = round(Z_testStatistic(x̄,μ0,σ,root_n),3)\n",
    "p_value = 1-scipy.stats.norm.cdf(z)\n",
    "print(\"5. Komputasi\")\n",
    "print(\"   x̄ : {} \\n   root_n: {} \\n   σ: {} \\n   μ0 : {}\".format(x̄,root_n,σ,μ0))\n",
    "print(\"   p_value : {} \\n   z: {}\".format(str(p_value),str(z)))\n",
    "\n",
    "# Langkah 6\n",
    "print(\"6. Test Daerah Kritis\")\n",
    "if (z > zα):\n",
    "    print(\"   Tolak H0 karena nilai uji = {}>{} (z>zα)\".format(str(z),str(zα)))\n",
    "    print(\"   Rata-Rata pH di atas 7\")\n",
    "else :\n",
    "    print(\"   Terima H0 karena nilai uji = {}<={} (z<=zα)\".format(str(z),str(zα)))\n",
    "    print(\"   Rata-Rata pH sama dengan 7\")\n",
    "\n",
    "# Menggambar Boxplot pH\n",
    "\n",
    "# Konfigurasi Boxplot\n",
    "plt.figure(figsize=(6,8))\n",
    "plt.grid()\n",
    "\n",
    "# Penggambaran Boxplot\n",
    "BoxPlotpH= sns.boxplot(data=pH)\n",
    "BoxPlotpH.set_title(\"BoxPlot pH\")\n"
   ]
  },
  {
   "cell_type": "markdown",
   "metadata": {},
   "source": [
    "#### B.  Nilai Rata-rata Hardness tidak sama dengan 205? <br />"
   ]
  },
  {
   "cell_type": "code",
   "execution_count": 18,
   "metadata": {},
   "outputs": [
    {
     "name": "stdout",
     "output_type": "stream",
     "text": [
      "Nilai Rata-rata Hardness tidak sama dengan 205 ?\n",
      "1. H0 : μ=205\n",
      "2. H1 : μ≠205\n",
      "3. α = 0.05\n",
      "4. Uji Statistik : z=(x̄-μ0)/(σ/root_n), σ diketahui\n",
      "   Daerah Kritis : z>zα/2 atau z <-zα/2 : z>1.96 atau z<-1.96\n",
      "5. Komputasi\n",
      "   x̄ : 195.96920903783524 \n",
      "   n: 2010 \n",
      "   root_n: 44.83302354291979 \n",
      "   σ: 32.643165859429864 \n",
      "   μ0 : 205\n",
      "   p_value : 0.0 \n",
      "   z: -12.403\n",
      "6. Test Daerah Kritis\n",
      "   Tolak H0 karena nilai uji = -12.403<-1.96 (z<-zα/2)\n",
      "   Rata-rata Hardness tidak sama dengan 205\n"
     ]
    },
    {
     "data": {
      "text/plain": [
       "Text(0.5, 1.0, 'BoxPlot Hardness')"
      ]
     },
     "execution_count": 18,
     "metadata": {},
     "output_type": "execute_result"
    },
    {
     "data": {
      "image/png": "[encoded data removed]",
      "text/plain": [
       "<Figure size 432x576 with 1 Axes>"
      ]
     },
     "metadata": {
      "needs_background": "light"
     },
     "output_type": "display_data"
    }
   ],
   "source": [
    "print(\"Nilai Rata-rata Hardness tidak sama dengan 205 ?\")\n",
    "\n",
    "# Langkah 1\n",
    "H0 = \"μ=205\"\n",
    "print(\"1. H0 : {}\".format(H0))\n",
    "\n",
    "# Langkah 2\n",
    "H1 = \"μ≠205\"\n",
    "print(\"2. H1 : {}\".format(H1))\n",
    "\n",
    "# Langkah 3\n",
    "α = 5e-2\n",
    "print(\"3. α = {}\".format(α))\n",
    "\n",
    "# Langkah 4\n",
    "zα_div2 = round(scipy.stats.norm.ppf(1-(α/2)),3)\n",
    "print(\"4. Uji Statistik : z=(x̄-μ0)/(σ/root_n), σ diketahui\")\n",
    "print(\"   Daerah Kritis : z>zα/2 atau z <-zα/2 : z>{} atau z<{}\".format(zα_div2,-1*zα_div2))\n",
    "\n",
    "# Langkah 5\n",
    "x̄ = Hardness.mean()\n",
    "μ0= 205\n",
    "σ = Hardness.std()\n",
    "n = len(Hardness)\n",
    "root_n = np.sqrt(n)\n",
    "z = round(Z_testStatistic(x̄,μ0,σ,root_n),3)\n",
    "p_value = 1-abs(scipy.stats.norm.cdf(z)-scipy.stats.norm.cdf(-1*z))\n",
    "print(\"5. Komputasi\")\n",
    "print(\"   x̄ : {} \\n   n: {} \\n   root_n: {} \\n   σ: {} \\n   μ0 : {}\".format(x̄,n,root_n,σ,μ0))\n",
    "print(\"   p_value : {} \\n   z: {}\".format(str(p_value),str(z)))\n",
    "\n",
    "# Langkah 6\n",
    "print(\"6. Test Daerah Kritis\")\n",
    "if (z > zα_div2 or z < -1*zα_div2):\n",
    "    if (z > zα_div2):\n",
    "        print(\"   Tolak H0 karena nilai uji = {}>{} (z>zα/2)\".format(z,zα_div2))\n",
    "    else:\n",
    "        print(\"   Tolak H0 karena nilai uji = {}<{} (z<-zα/2)\".format(z,-1*zα_div2))\n",
    "    print(\"   Rata-rata Hardness tidak sama dengan 205\")\n",
    "else :\n",
    "    print(\"   Terima H0 karena nilai uji = {}<{}<{} (-zα/2<z<zα/2)\".format(-1*zα_div2,z,zα_div2))\n",
    "    print(\"   Rata-rata Hardness sama dengan 205\")\n",
    "    \n",
    "# Menggambar Boxplot Hardness\n",
    "\n",
    "# Konfigurasi Boxplot\n",
    "plt.figure(figsize=(6,8))\n",
    "plt.grid()\n",
    "\n",
    "# Penggambaran Boxplot\n",
    "BoxPlotHardness= sns.boxplot(data=Hardness)\n",
    "BoxPlotHardness.set_title(\"BoxPlot Hardness\")"
   ]
  },
  {
   "cell_type": "markdown",
   "metadata": {},
   "source": [
    "#### C. Nilai Rata-rata 100 baris pertama kolom Solids bukan 21900? <br />"
   ]
  },
  {
   "cell_type": "code",
   "execution_count": 19,
   "metadata": {},
   "outputs": [
    {
     "name": "stdout",
     "output_type": "stream",
     "text": [
      "Nilai Rata-rata 100 baris pertama kolom Solids bukan 21900 ?\n",
      "1. H0 : μ=21900\n",
      "2. H1 : μ≠21900\n",
      "3. α = 0.05\n",
      "4. Uji Statistik : z=(x̄-μ0)/(σ/root_n), σ diketahui\n",
      "   Daerah Kritis : z>zα/2 atau z <-zα/2 : z>1.96 atau z<1.96\n",
      "5. Komputasi\n",
      "   x̄ : 22347.334446383426 \n",
      "   root_n: 10.0 \n",
      "   σ: 8625.397911190576 \n",
      "   μ0 : 21900\n",
      "   p_value : 0.6037607412507624 \n",
      "   z: 0.519\n",
      "6. Test Daerah Kritis\n",
      "   Terima H0 karena nilai uji = -1.96<0.519<1.96 (-zα/2<z<zα/2)\n",
      "   Nilai Rata-rata 100 baris pertama kolom Solids sama dengan 21900\n"
     ]
    },
    {
     "data": {
      "text/plain": [
       "Text(0.5, 1.0, 'BoxPlot newSolids')"
      ]
     },
     "execution_count": 19,
     "metadata": {},
     "output_type": "execute_result"
    },
    {
     "data": {
      "image/png": "[encoded data removed]",
      "text/plain": [
       "<Figure size 432x576 with 1 Axes>"
      ]
     },
     "metadata": {
      "needs_background": "light"
     },
     "output_type": "display_data"
    }
   ],
   "source": [
    "print(\"Nilai Rata-rata 100 baris pertama kolom Solids bukan 21900 ?\")\n",
    "# Langkah 1\n",
    "H0 = \"μ=21900\"\n",
    "print(\"1. H0 : {}\".format(H0))\n",
    "\n",
    "# Langkah 2\n",
    "H1 = \"μ≠21900\"\n",
    "print(\"2. H1 : {}\".format(H1))\n",
    "\n",
    "# Langkah 3\n",
    "α = 5e-2\n",
    "print(\"3. α = {}\".format(α))\n",
    "\n",
    "# Langkah 4\n",
    "zα_div2 = round(scipy.stats.norm.ppf(1-(α/2)),3)\n",
    "print(\"4. Uji Statistik : z=(x̄-μ0)/(σ/root_n), σ diketahui\")\n",
    "print(\"   Daerah Kritis : z>zα/2 atau z <-zα/2 : z>{} atau z<{}\".format(zα_div2,zα_div2))\n",
    "\n",
    "# Langkah 5\n",
    "newSolids = Solids[:100]\n",
    "x̄ = newSolids.mean()\n",
    "μ0= 21900\n",
    "σ = Solids.std()\n",
    "n = len(newSolids)\n",
    "root_n = np.sqrt(n)\n",
    "z = round(Z_testStatistic(x̄,μ0,σ,root_n),3)\n",
    "p_value = 1-abs(scipy.stats.norm.cdf(z)-scipy.stats.norm.cdf(-1*z))\n",
    "print(\"5. Komputasi\")\n",
    "print(\"   x̄ : {} \\n   root_n: {} \\n   σ: {} \\n   μ0 : {}\".format(x̄,root_n,σ,μ0))\n",
    "print(\"   p_value : {} \\n   z: {}\".format(str(p_value),str(z)))\n",
    "\n",
    "# Langkah 6\n",
    "print(\"6. Test Daerah Kritis\")\n",
    "if (z > zα_div2 or z < -1*zα_div2):\n",
    "    if (z > zα_div2):\n",
    "        print(\"   Tolak H0 karena nilai uji = {}>{} (z>zα/2)\".format(z,zα_div2))\n",
    "    else:\n",
    "        print(\"   Tolak H0 karena nilai uji = {}<{} (z<-zα/2)\".format(z,-1*zα_div2))\n",
    "    print(\"   Nilai Rata-rata 100 baris pertama kolom Solids tidak sama dengan 21900\")\n",
    "else :\n",
    "    print(\"   Terima H0 karena nilai uji = {}<{}<{} (-zα/2<z<zα/2)\".format(-1*zα_div2,z,zα_div2))\n",
    "    print(\"   Nilai Rata-rata 100 baris pertama kolom Solids sama dengan 21900\")\n",
    "\n",
    "# Menggambar Boxplot Solids\n",
    "\n",
    "# Konfigurasi Boxplot\n",
    "plt.figure(figsize=(6,8))\n",
    "plt.grid()\n",
    "# Penggambaran Boxplot\n",
    "BoxPlotSolids= sns.boxplot(data=newSolids)\n",
    "BoxPlotSolids.set_title(\"BoxPlot newSolids\")"
   ]
  },
  {
   "cell_type": "markdown",
   "metadata": {},
   "source": [
    "#### D. Proporsi nilai Conductivity yang lebih dari 450, adalah tidak sama dengan 10%? <br />"
   ]
  },
  {
   "cell_type": "code",
   "execution_count": 20,
   "metadata": {},
   "outputs": [
    {
     "name": "stdout",
     "output_type": "stream",
     "text": [
      "Proporsi nilai Conductivity yang lebih dari 450, adalah tidak sama dengan 10% ?\n",
      "1. H0 : p=0.10\n",
      "2. H1 : p≠0.10\n",
      "3. α = 0.05\n",
      "4. Uji Statistik : z=(p̂-p0)/sqrt(p0*q0/n), σ diketahui\n",
      "   Daerah Kritis : z>zα/2 atau z <-zα/2 : z>1.96 atau z<1.96\n",
      "5. Komputasi\n",
      "   p̂ : 0.3706467661691542 \n",
      "   p0: 0.1 \n",
      "   q0: 0.9 \n",
      "   n : 2010\n",
      "   p_value : 0.0 \n",
      "   z: 40.446\n",
      "6. Test Daerah Kritis\n",
      "   Tolak H0 karena nilai uji = 40.446>1.96 (z>zα/2)\n",
      "   Proporsi nilai Conductivity yang lebih dari 450 tidak sama dengan 10%\n"
     ]
    },
    {
     "data": {
      "text/plain": [
       "Text(0.5, 1.0, 'BoxPlot Conductivity')"
      ]
     },
     "execution_count": 20,
     "metadata": {},
     "output_type": "execute_result"
    },
    {
     "data": {
      "image/png": "[encoded data removed]",
      "text/plain": [
       "<Figure size 432x576 with 1 Axes>"
      ]
     },
     "metadata": {
      "needs_background": "light"
     },
     "output_type": "display_data"
    }
   ],
   "source": [
    "print(\"Proporsi nilai Conductivity yang lebih dari 450, adalah tidak sama dengan 10% ?\")\n",
    "# Langkah 1\n",
    "H0 = \"p=0.10\"\n",
    "print(\"1. H0 : {}\".format(H0))\n",
    "\n",
    "# Langkah 2\n",
    "H1 = \"p≠0.10\"\n",
    "print(\"2. H1 : {}\".format(H1))\n",
    "\n",
    "# Langkah 3\n",
    "α = 5e-2\n",
    "print(\"3. α = {}\".format(α))\n",
    "\n",
    "# Langkah 4\n",
    "\n",
    "zα_div2 = round(scipy.stats.norm.ppf(1-(α/2)),3)\n",
    "print(\"4. Uji Statistik : z=(p̂-p0)/sqrt(p0*q0/n), σ diketahui\")\n",
    "print(\"   Daerah Kritis : z>zα/2 atau z <-zα/2 : z>{} atau z<{}\".format(zα_div2,zα_div2))\n",
    "\n",
    "# Langkah 5\n",
    "newConductivity = [dia for dia in Conductivity if dia > 450]\n",
    "p̂ = len(newConductivity)/len(Conductivity)\n",
    "p0 = 0.10\n",
    "q0 = 1-p0\n",
    "n = len(Conductivity)\n",
    "z = round(Z_testStatistic_bigN(p̂,p0,q0,n),3)\n",
    "p_value = 1-abs(scipy.stats.norm.cdf(z)-scipy.stats.norm.cdf(-1*z))\n",
    "print(\"5. Komputasi\")\n",
    "print(\"   p̂ : {} \\n   p0: {} \\n   q0: {} \\n   n : {}\".format(p̂,p0,q0,n))\n",
    "print(\"   p_value : {} \\n   z: {}\".format(str(p_value),str(z)))\n",
    "\n",
    "# Langkah 6\n",
    "print(\"6. Test Daerah Kritis\")\n",
    "if (z > zα_div2 or z < -1*zα_div2):\n",
    "    if (z > zα_div2):\n",
    "        print(\"   Tolak H0 karena nilai uji = {}>{} (z>zα/2)\".format(z,zα_div2))\n",
    "    else:\n",
    "        print(\"   Tolak H0 karena nilai uji = {}<{} (z<-zα/2)\".format(z,-1*zα_div2))\n",
    "    print(\"   Proporsi nilai Conductivity yang lebih dari 450 tidak sama dengan 10%\")\n",
    "else :\n",
    "    print(\"   Terima H0 karena nilai uji = {}<{}<{} (-zα/2<z<zα/2)\".format(-1*zα_div2,z,zα_div2))\n",
    "    print(\"   Proporsi nilai Conductivity yang lebih dari 450 sama dengan 10%\")\n",
    "\n",
    "    \n",
    "# Menggambar Boxplot Conductivity\n",
    "\n",
    "# Konfigurasi Boxplot\n",
    "plt.figure(figsize=(6,8))\n",
    "plt.grid()\n",
    "\n",
    "# Penggambaran Boxplot\n",
    "BoxPlotConductivity= sns.boxplot(data=Conductivity)\n",
    "BoxPlotConductivity.set_title(\"BoxPlot Conductivity\")"
   ]
  },
  {
   "cell_type": "markdown",
   "metadata": {},
   "source": [
    "#### E. Proporsi nilai Trihalomethanes yang kurang dari 40, adalah kurang dari 5%? <br />"
   ]
  },
  {
   "cell_type": "code",
   "execution_count": 21,
   "metadata": {},
   "outputs": [
    {
     "name": "stdout",
     "output_type": "stream",
     "text": [
      "Proporsi nilai Trihalomethanes yang kurang dari 40, adalah kurang dari 5% ?\n",
      "1. H0 : p=0.05\n",
      "2. H1 : p<0.05\n",
      "3. α = 0.05\n",
      "4. Uji Statistik : z=(p̂-p0)/sqrt(p0*q0/n), σ diketahui\n",
      "   Daerah Kritis : z <-zα : z<-1.645\n",
      "5. Komputasi\n",
      "   p̂ : 0.0527363184079602 \n",
      "   p0: 0.05 \n",
      "   q0: 0.95 \n",
      "   n : 2010\n",
      "   p_value : 0.7132825580297869 \n",
      "   z: 0.563\n",
      "6. Test Daerah Kritis\n",
      "   Terima H0 karena nilai uji = 0.563>=-1.645 (z>=-zα)\n",
      "   Proporsi nilai Trihalomethanes yang kurang dari 40, adalah sama dengan 5%\n"
     ]
    },
    {
     "data": {
      "text/plain": [
       "Text(0.5, 1.0, 'BoxPlot Trihalomethanes')"
      ]
     },
     "execution_count": 21,
     "metadata": {},
     "output_type": "execute_result"
    },
    {
     "data": {
      "image/png": "[encoded data removed]",
      "text/plain": [
       "<Figure size 432x576 with 1 Axes>"
      ]
     },
     "metadata": {
      "needs_background": "light"
     },
     "output_type": "display_data"
    }
   ],
   "source": [
    "print(\"Proporsi nilai Trihalomethanes yang kurang dari 40, adalah kurang dari 5% ?\")\n",
    "\n",
    "# Langkah 1\n",
    "H0 = \"p=0.05\"\n",
    "print(\"1. H0 : {}\".format(H0))\n",
    "\n",
    "# Langkah 2\n",
    "H1 = \"p<0.05\"\n",
    "print(\"2. H1 : {}\".format(H1))\n",
    "\n",
    "# Langkah 3\n",
    "α = 5e-2\n",
    "print(\"3. α = {}\".format(α))\n",
    "\n",
    "# Langkah 4\n",
    "zα = round(scipy.stats.norm.ppf(1-α),3)\n",
    "print(\"4. Uji Statistik : z=(p̂-p0)/sqrt(p0*q0/n), σ diketahui\")\n",
    "print(\"   Daerah Kritis : z <-zα : z<{}\".format(-1*zα))\n",
    "\n",
    "# Langkah 5\n",
    "newKel = [kel for kel in Trihalomethanes if kel < 40]\n",
    "p̂ = len(newKel)/len(Trihalomethanes)\n",
    "p0 = 0.05\n",
    "q0 = 1-p0\n",
    "n = len(Trihalomethanes)\n",
    "z = round(Z_testStatistic_bigN(p̂,p0,q0,n),3)\n",
    "p_value = scipy.stats.norm.cdf(z)\n",
    "print(\"5. Komputasi\")\n",
    "print(\"   p̂ : {} \\n   p0: {} \\n   q0: {} \\n   n : {}\".format(p̂,p0,q0,n))\n",
    "print(\"   p_value : {} \\n   z: {}\".format(str(p_value),str(z)))\n",
    "\n",
    "# Langkah 6\n",
    "print(\"6. Test Daerah Kritis\")\n",
    "if (z < -1*zα):\n",
    "    print(\"   Tolak H0 karena nilai uji = {}<{} (z<-zα)\".format(str(z),str(-1*zα)))\n",
    "    print(\"   Proporsi nilai Trihalomethanes yang kurang dari 40, adalah kurang dari 5%\")\n",
    "else :\n",
    "    print(\"   Terima H0 karena nilai uji = {}>={} (z>=-zα)\".format(str(z),str(-zα)))\n",
    "    print(\"   Proporsi nilai Trihalomethanes yang kurang dari 40, adalah sama dengan 5%\")\n",
    "    \n",
    "# Menggambar Boxplot Trihalomethanes\n",
    "\n",
    "# Konfigurasi Boxplot\n",
    "plt.figure(figsize=(6,8))\n",
    "plt.grid()\n",
    "\n",
    "# Penggambaran Boxplot\n",
    "BoxPlotTrihalomethanes= sns.boxplot(data=Trihalomethanes)\n",
    "BoxPlotTrihalomethanes.set_title(\"BoxPlot Trihalomethanes\")"
   ]
  },
  {
   "cell_type": "markdown",
   "metadata": {},
   "source": [
    "---"
   ]
  },
  {
   "cell_type": "markdown",
   "metadata": {},
   "source": [
    "### 5. Melakukan test hipotesis 2 sampel, dengan menuliskan 6 langkah testing dan menampilkan juga boxplotnya untuk kolom/bagian yang bersesuaian.\n",
    "<ul>\n",
    "a. Data kolom Sulfate dibagi 2 sama rata: bagian awal dan bagian akhir kolom. Benarkah\n",
    "rata-rata kedua bagian tersebut sama?\n",
    "<br>\n",
    "b. Data kolom OrganicCarbon dibagi 2 sama rata: bagian awal dan bagian akhir kolom.\n",
    "Benarkah rata-rata bagian awal lebih besar dari pada bagian akhir sebesar 0.15?\n",
    "<br>\n",
    "c. Rata-rata 100 baris pertama kolom Chloramines sama dengan 100 baris terakhirnya?\n",
    "<br>\n",
    "d. Proporsi nilai bagian awal Turbidity yang lebih dari 4, adalah lebih besar daripada,\n",
    "proporsi nilai yang sama di bagian akhir Turbidity ?\n",
    "<br>\n",
    "e. Bagian awal kolom Sulfate memiliki variansi yang sama dengan bagian akhirnya?\n",
    "</ul>"
   ]
  },
  {
   "cell_type": "markdown",
   "metadata": {},
   "source": [
    "##### a. Data kolom Sulfate dibagi 2 sama rata: bagian awal dan bagian akhir kolom. Benarkah rata-rata kedua bagian tersebut sama?\n",
    "\n",
    "1. Hipotesis Nol\n",
    "$$H_0 : \\mu_{SulfateAwal} = \\mu_{SulfateAkhir}$$\n",
    "\n",
    "2. Hipotesis Alternatif\n",
    "$$H_1 : \\mu_{SulfateAwal} \\not= \\mu_{SulfateAkhir}$$\n",
    "\n",
    "3. Tingkat Signifikan $\\alpha$\n",
    "$$\\alpha = 0.05$$\n",
    "\n",
    "4. Uji Statistik dan Daerah Kritis\n",
    "<br />\n",
    "Derajat Kebebasan = 2008\n",
    "<br />\n",
    "Asumsi kolom Sulfate berdistribusi normal maka didapatkan nilai kritis t' < -1.961 atau t' > 1.961"
   ]
  },
  {
   "cell_type": "code",
   "execution_count": 22,
   "metadata": {},
   "outputs": [
    {
     "name": "stdout",
     "output_type": "stream",
     "text": [
      "5. Perhitungan Nilai Uji Statistik dari Data Sample\n"
     ]
    },
    {
     "data": {
      "text/markdown": [
       "$\\bar{X}_{SulfateAwal} = 331.30532950549565$"
      ],
      "text/plain": [
       "<IPython.core.display.Markdown object>"
      ]
     },
     "metadata": {},
     "output_type": "display_data"
    },
    {
     "data": {
      "text/markdown": [
       "$\\bar{X}_{SulfateAkhir} = 335.11742332488245$"
      ],
      "text/plain": [
       "<IPython.core.display.Markdown object>"
      ]
     },
     "metadata": {},
     "output_type": "display_data"
    },
    {
     "data": {
      "text/markdown": [
       "$S^2_{SulfateAwal} = 1708.3966020772502$"
      ],
      "text/plain": [
       "<IPython.core.display.Markdown object>"
      ]
     },
     "metadata": {},
     "output_type": "display_data"
    },
    {
     "data": {
      "text/markdown": [
       "$S^2_{SulfateAkhir} = 1682.7330644425087$"
      ],
      "text/plain": [
       "<IPython.core.display.Markdown object>"
      ]
     },
     "metadata": {},
     "output_type": "display_data"
    },
    {
     "data": {
      "text/markdown": [
       "$S^2_{p} = 1696.4028477342033$"
      ],
      "text/plain": [
       "<IPython.core.display.Markdown object>"
      ]
     },
     "metadata": {},
     "output_type": "display_data"
    },
    {
     "data": {
      "text/markdown": [
       "$n_{SulfateAwal} =1005,\\, n_{SulfateAkhir} =1005$"
      ],
      "text/plain": [
       "<IPython.core.display.Markdown object>"
      ]
     },
     "metadata": {},
     "output_type": "display_data"
    },
    {
     "data": {
      "text/markdown": [
       "$t' = \\Large\\frac{(\\bar{X}_{SulfateAwal} - \\bar{X}_{SulfateAkhir})-d_0}{S_{p}\\sqrt{\\Large\\frac{1}{\\Large n_{SulfateAwal}} + \\Large\\frac{1}{\\Large n_{SulfateAkhir}}}}$"
      ],
      "text/plain": [
       "<IPython.core.display.Markdown object>"
      ]
     },
     "metadata": {},
     "output_type": "display_data"
    },
    {
     "data": {
      "text/markdown": [
       "dengan $d_0 = \\mu_{SulfateAwal} - \\mu_{SulfateAkhir} = 0$"
      ],
      "text/plain": [
       "<IPython.core.display.Markdown object>"
      ]
     },
     "metadata": {},
     "output_type": "display_data"
    },
    {
     "data": {
      "text/markdown": [
       "didapat **t' = -2.0747564201266155**"
      ],
      "text/plain": [
       "<IPython.core.display.Markdown object>"
      ]
     },
     "metadata": {},
     "output_type": "display_data"
    },
    {
     "data": {
      "text/markdown": [
       "didapat **P-Value = 0.03813621568882176**"
      ],
      "text/plain": [
       "<IPython.core.display.Markdown object>"
      ]
     },
     "metadata": {},
     "output_type": "display_data"
    }
   ],
   "source": [
    "SulfateAwal = water_potability.iloc[:water_potability['Sulfate'].count()//2,:]\n",
    "SulfateAkhir = water_potability.iloc[water_potability['Sulfate'].count()//2:,:]\n",
    "print(\"5. Perhitungan Nilai Uji Statistik dari Data Sample\")\n",
    "printM(\"$\\\\bar{X}_{SulfateAwal} = \"+ str(SulfateAwal['Sulfate'].mean()) +  \"$\")\n",
    "printM(\"$\\\\bar{X}_{SulfateAkhir} = \" + str(SulfateAkhir['Sulfate'].mean()) +\"$\")\n",
    "printM(\"$S^2_{SulfateAwal} = \"+ str(SulfateAwal['Sulfate'].var()) +  \"$\")\n",
    "printM(\"$S^2_{SulfateAkhir} = \" + str(SulfateAkhir['Sulfate'].var()) +\"$\")\n",
    "Sp = ((len(SulfateAwal['Sulfate'])-1)*SulfateAwal['Sulfate'].var()+(len(SulfateAkhir['Sulfate']-1))*SulfateAkhir['Sulfate'].var())/(len(SulfateAwal['Sulfate'])+len(SulfateAkhir['Sulfate'])-2)\n",
    "printM(\"$S^2_{p} = \" + str(Sp) +\"$\")\n",
    "printM(\"$n_{SulfateAwal} =\" + str(len(SulfateAwal['Sulfate'])) +\",\\\\, n_{SulfateAkhir} =\"+ str(len(SulfateAwal['Sulfate'])) + \"$\")\n",
    "printM(\"$t' = \\\\Large\\\\frac{(\\\\bar{X}_{SulfateAwal} - \\\\bar{X}_{SulfateAkhir})-d_0}{S_{p}\\\\sqrt{\\\\Large\\\\frac{1}{\\\\Large n_{SulfateAwal}} + \\\\Large\\\\frac{1}{\\\\Large n_{SulfateAkhir}}}}$\")\n",
    "printM(\"dengan $d_0 = \\\\mu_{SulfateAwal} - \\\\mu_{SulfateAkhir} = 0$\")\n",
    "t=((SulfateAwal['Sulfate'].mean() - SulfateAkhir['Sulfate'].mean()) - 0)/((((1/len(SulfateAwal['Sulfate'])) + (1/len(SulfateAwal['Sulfate'])))*Sp)**0.5)\n",
    "dk = len(SulfateAwal['Sulfate'])+len(SulfateAkhir['Sulfate']) - 2\n",
    "printM(\"didapat **t' = \"+str(t)+\"**\")\n",
    "printM(\"didapat **P-Value = \"+ str(scipy.stats.t.sf(abs(t), dk)*2) + \"**\")"
   ]
  },
  {
   "cell_type": "markdown",
   "metadata": {},
   "source": [
    "##### 6. Kesimpulan\n",
    "Karena nilai t' terletak di titik kritis $t'<-1,961$ maka $H_0$ ditolak P-value yang didapatkan juga lebih kecil dibanding tingkat sinifikansi  yang diinginkan. Sehingga, didapatkan kesimpulan **rata-rata bagian awal dan bagian akhir kolom Sulfate tidak sama**."
   ]
  },
  {
   "cell_type": "code",
   "execution_count": 23,
   "metadata": {},
   "outputs": [
    {
     "data": {
      "text/plain": [
       "<AxesSubplot:>"
      ]
     },
     "execution_count": 23,
     "metadata": {},
     "output_type": "execute_result"
    },
    {
     "data": {
      "image/png": "[encoded data removed]",
      "text/plain": [
       "<Figure size 1080x504 with 2 Axes>"
      ]
     },
     "metadata": {
      "needs_background": "light"
     },
     "output_type": "display_data"
    }
   ],
   "source": [
    "fig, axs = plt.subplots(1, 2, figsize=(15,7))\n",
    "SulfateAwal.boxplot(\"Sulfate\", ax=axs[0])\n",
    "SulfateAkhir.boxplot(\"Sulfate\", ax=axs[1])\n",
    "# boxplot kiri merupakan Sulfate awal, kanan Sulfate akhir"
   ]
  },
  {
   "cell_type": "markdown",
   "metadata": {},
   "source": [
    "##### b. Data kolom OrganicCarbon dibagi 2 sama rata: bagian awal dan bagian akhir kolom. Benarkah rata-rata bagian awal lebih besar dari pada bagian akhir sebesar 0.15?\n",
    "\n",
    "1. Hipotesis Nol\n",
    "$$H_0 : \\mu_{OrganicCarbonAwal} = \\mu_{OrganicCarbonAkhir} + 0.15$$\n",
    "\n",
    "2. Hipotesis Alternatif\n",
    "$$H_1 : \\mu_{OrganicCarbonAwal} \\not= \\mu_{OrganicCarbonAkhir} + 0.15$$\n",
    "\n",
    "3. Tingkat Signifikan $\\alpha$\n",
    "$$\\alpha = 0.05$$\n",
    "\n",
    "4. Uji Statistik dan Daerah Kritis\n",
    "<br>\n",
    "Derajat Kebebasan = 2008\n",
    "<br>\n",
    "Asumsi kolom OrganicCarbon berdistribusi normal maka didapatkan nilai kritis t' < -1.961 atau t' > 1.961"
   ]
  },
  {
   "cell_type": "code",
   "execution_count": 24,
   "metadata": {},
   "outputs": [
    {
     "name": "stdout",
     "output_type": "stream",
     "text": [
      "5. Perhitungan Nilai Uji Statistik dari Data Sample\n"
     ]
    },
    {
     "data": {
      "text/markdown": [
       "$\\bar{X}_{OrganicCarbonAwal} = 14.253972723723393$"
      ],
      "text/plain": [
       "<IPython.core.display.Markdown object>"
      ]
     },
     "metadata": {},
     "output_type": "display_data"
    },
    {
     "data": {
      "text/markdown": [
       "$\\bar{X}_{OrganicCarbonAkhir} = 14.461907080372756$"
      ],
      "text/plain": [
       "<IPython.core.display.Markdown object>"
      ]
     },
     "metadata": {},
     "output_type": "display_data"
    },
    {
     "data": {
      "text/markdown": [
       "$S^2_{OrganicCarbonAwal} = 11.230287224380323$"
      ],
      "text/plain": [
       "<IPython.core.display.Markdown object>"
      ]
     },
     "metadata": {},
     "output_type": "display_data"
    },
    {
     "data": {
      "text/markdown": [
       "$S^2_{OrganicCarbonAkhir} = 10.880581782847479$"
      ],
      "text/plain": [
       "<IPython.core.display.Markdown object>"
      ]
     },
     "metadata": {},
     "output_type": "display_data"
    },
    {
     "data": {
      "text/markdown": [
       "$S^2_{p} = 11.06085312003962$"
      ],
      "text/plain": [
       "<IPython.core.display.Markdown object>"
      ]
     },
     "metadata": {},
     "output_type": "display_data"
    },
    {
     "data": {
      "text/markdown": [
       "$n_{OrganicCarbonAwal} =1005,\\, n_{OrganicCarbonAkhir} =1005$"
      ],
      "text/plain": [
       "<IPython.core.display.Markdown object>"
      ]
     },
     "metadata": {},
     "output_type": "display_data"
    },
    {
     "data": {
      "text/markdown": [
       "$t' = \\Large\\frac{(\\bar{X}_{OrganicCarbonAwal} - \\bar{X}_{OrganicCarbonAkhir})-d_0}{S_{p}\\sqrt{\\Large\\frac{1}{\\Large n_{OrganicCarbonAwal}} + \\Large\\frac{1}{\\Large n_{OrganicCarbonAkhir}}}}$"
      ],
      "text/plain": [
       "<IPython.core.display.Markdown object>"
      ]
     },
     "metadata": {},
     "output_type": "display_data"
    },
    {
     "data": {
      "text/markdown": [
       "dengan $d_0 = \\mu_{OrganicCarbonAwal} - \\mu_{OrganicCarbonAkhir} = 0.15$"
      ],
      "text/plain": [
       "<IPython.core.display.Markdown object>"
      ]
     },
     "metadata": {},
     "output_type": "display_data"
    },
    {
     "data": {
      "text/markdown": [
       "didapat **t' = -2.412554355813619**"
      ],
      "text/plain": [
       "<IPython.core.display.Markdown object>"
      ]
     },
     "metadata": {},
     "output_type": "display_data"
    },
    {
     "data": {
      "text/markdown": [
       "didapat **P-Value = 0.015930288341907173**"
      ],
      "text/plain": [
       "<IPython.core.display.Markdown object>"
      ]
     },
     "metadata": {},
     "output_type": "display_data"
    }
   ],
   "source": [
    "OrganicCarbonAwal = water_potability.iloc[:water_potability['OrganicCarbon'].count()//2,:]\n",
    "OrganicCarbonAkhir = water_potability.iloc[water_potability['OrganicCarbon'].count()//2:,:]\n",
    "print(\"5. Perhitungan Nilai Uji Statistik dari Data Sample\")\n",
    "printM(\"$\\\\bar{X}_{OrganicCarbonAwal} = \"+ str(OrganicCarbonAwal['OrganicCarbon'].mean()) +  \"$\")\n",
    "printM(\"$\\\\bar{X}_{OrganicCarbonAkhir} = \" + str(OrganicCarbonAkhir['OrganicCarbon'].mean()) +\"$\")\n",
    "printM(\"$S^2_{OrganicCarbonAwal} = \"+ str(OrganicCarbonAwal['OrganicCarbon'].var()) +  \"$\")\n",
    "printM(\"$S^2_{OrganicCarbonAkhir} = \" + str(OrganicCarbonAkhir['OrganicCarbon'].var()) +\"$\")\n",
    "Sp = ((len(OrganicCarbonAwal['OrganicCarbon'])-1)*OrganicCarbonAwal['OrganicCarbon'].var()+(len(OrganicCarbonAkhir['OrganicCarbon']-1))*OrganicCarbonAkhir['OrganicCarbon'].var())/(len(OrganicCarbonAwal['OrganicCarbon'])+len(OrganicCarbonAkhir['OrganicCarbon'])-2)\n",
    "printM(\"$S^2_{p} = \" + str(Sp) +\"$\")\n",
    "printM(\"$n_{OrganicCarbonAwal} =\" + str(len(OrganicCarbonAwal['OrganicCarbon'])) +\",\\\\, n_{OrganicCarbonAkhir} =\"+ str(len(OrganicCarbonAwal['OrganicCarbon'])) + \"$\")\n",
    "printM(\"$t' = \\\\Large\\\\frac{(\\\\bar{X}_{OrganicCarbonAwal} - \\\\bar{X}_{OrganicCarbonAkhir})-d_0}{S_{p}\\\\sqrt{\\\\Large\\\\frac{1}{\\\\Large n_{OrganicCarbonAwal}} + \\\\Large\\\\frac{1}{\\\\Large n_{OrganicCarbonAkhir}}}}$\")\n",
    "printM(\"dengan $d_0 = \\\\mu_{OrganicCarbonAwal} - \\\\mu_{OrganicCarbonAkhir} = 0.15$\")\n",
    "t =((OrganicCarbonAwal['OrganicCarbon'].mean() - OrganicCarbonAkhir['OrganicCarbon'].mean()) - 0.15)/(((1/len(OrganicCarbonAwal['OrganicCarbon']) + 1/len(OrganicCarbonAwal['OrganicCarbon']))*Sp)**0.5)\n",
    "dk = len(OrganicCarbonAwal['OrganicCarbon'])+len(OrganicCarbonAkhir['OrganicCarbon']) - 2\n",
    "printM(\"didapat **t' = \"+str(t)+\"**\")\n",
    "printM(\"didapat **P-Value = \"+ str(scipy.stats.t.sf(abs(t), dk)*2) + \"**\")"
   ]
  },
  {
   "cell_type": "markdown",
   "metadata": {},
   "source": [
    "##### 6. Kesimpulan\n",
    "Karena nilai t' terletak di titik kritis $t'<-1,961$ maka $H_0$ ditolak. P-value yang didapatkan juga lebih kecil dibanding tingkat signifikansi $\\alpha$ yang diinginkan. Sehingga, didapatkan kesimpulan **rata-rata bagian awal dan bagian akhir kolom OrganicCarbon tidak sama**."
   ]
  },
  {
   "cell_type": "code",
   "execution_count": 25,
   "metadata": {},
   "outputs": [
    {
     "data": {
      "text/plain": [
       "<AxesSubplot:>"
      ]
     },
     "execution_count": 25,
     "metadata": {},
     "output_type": "execute_result"
    },
    {
     "data": {
      "image/png": "[encoded data removed]",
      "text/plain": [
       "<Figure size 1080x504 with 2 Axes>"
      ]
     },
     "metadata": {
      "needs_background": "light"
     },
     "output_type": "display_data"
    }
   ],
   "source": [
    "fig, axs = plt.subplots(1, 2, figsize=(15,7))\n",
    "OrganicCarbonAwal.boxplot(\"OrganicCarbon\", ax=axs[0])\n",
    "OrganicCarbonAkhir.boxplot(\"OrganicCarbon\", ax=axs[1])\n",
    "# boxplot kiri merupakan OrganicCarbon awal, kanan OrganicCarbon akhir"
   ]
  },
  {
   "cell_type": "markdown",
   "metadata": {},
   "source": [
    "##### c. Rata-rata 100 baris pertama kolom Chloramines sama dengan 100 baris terakhirnya?\n",
    "\n",
    "1. Hipotesis Nol\n",
    "$$H_0 : \\mu_{ChloraminesAwal} = \\mu_{ChloraminesAkhir}$$\n",
    "\n",
    "2. Hipotesis Alternatif\n",
    "$$H_1 : \\mu_{ChloraminesAwal} \\not= \\mu_{ChloraminesAkhir}$$\n",
    "\n",
    "3. Tingkat Signifikan $\\alpha$\n",
    "$$\\alpha = 0.05$$\n",
    "\n",
    "4. Uji Statistik dan Daerah Kritis\n",
    "<br>\n",
    "Derajat Kebebasan = 100 + 100 - 2 = 198\n",
    "<br>\n",
    "Asumsi kolom Chloramines berdistribusi normal maka didapatkan nilai kritis t' < -1.972 atau t' > 1.972"
   ]
  },
  {
   "cell_type": "code",
   "execution_count": 26,
   "metadata": {},
   "outputs": [
    {
     "name": "stdout",
     "output_type": "stream",
     "text": [
      "5. Perhitungan Nilai Uji Statistik dari Data Sample\n"
     ]
    },
    {
     "data": {
      "text/markdown": [
       "$\\bar{X}_{ChloraminesAwal} = 7.007771140423921$"
      ],
      "text/plain": [
       "<IPython.core.display.Markdown object>"
      ]
     },
     "metadata": {},
     "output_type": "display_data"
    },
    {
     "data": {
      "text/markdown": [
       "$\\bar{X}_{ChloraminesAkhir} = 7.147197636249925$"
      ],
      "text/plain": [
       "<IPython.core.display.Markdown object>"
      ]
     },
     "metadata": {},
     "output_type": "display_data"
    },
    {
     "data": {
      "text/markdown": [
       "$S^2_{ChloraminesAwal} = 2.193041986248721$"
      ],
      "text/plain": [
       "<IPython.core.display.Markdown object>"
      ]
     },
     "metadata": {},
     "output_type": "display_data"
    },
    {
     "data": {
      "text/markdown": [
       "$S^2_{ChloraminesAkhir} = 1.7077427735538262$"
      ],
      "text/plain": [
       "<IPython.core.display.Markdown object>"
      ]
     },
     "metadata": {},
     "output_type": "display_data"
    },
    {
     "data": {
      "text/markdown": [
       "$S^2_{p} = 1.9590173434040707$"
      ],
      "text/plain": [
       "<IPython.core.display.Markdown object>"
      ]
     },
     "metadata": {},
     "output_type": "display_data"
    },
    {
     "data": {
      "text/markdown": [
       "$n_{ChloraminesAwal} =100,\\, n_{ChloraminesAkhir} =100$"
      ],
      "text/plain": [
       "<IPython.core.display.Markdown object>"
      ]
     },
     "metadata": {},
     "output_type": "display_data"
    },
    {
     "data": {
      "text/markdown": [
       "$t' = \\Large\\frac{(\\bar{X}_{ChloraminesAwal} - \\bar{X}_{ChloraminesAkhir})-d_0}{S_{p}\\sqrt{\\Large\\frac{1}{\\Large n_{ChloraminesAwal}} + \\Large\\frac{1}{\\Large n_{ChloraminesAkhir}}}}$"
      ],
      "text/plain": [
       "<IPython.core.display.Markdown object>"
      ]
     },
     "metadata": {},
     "output_type": "display_data"
    },
    {
     "data": {
      "text/markdown": [
       "dengan $d_0 = \\mu_{ChloraminesAwal} - \\mu_{ChloraminesAkhir} = 0$"
      ],
      "text/plain": [
       "<IPython.core.display.Markdown object>"
      ]
     },
     "metadata": {},
     "output_type": "display_data"
    },
    {
     "data": {
      "text/markdown": [
       "didapat **t' = -0.7043867438713249**"
      ],
      "text/plain": [
       "<IPython.core.display.Markdown object>"
      ]
     },
     "metadata": {},
     "output_type": "display_data"
    },
    {
     "data": {
      "text/markdown": [
       "didapat **P-Value = 0.48201960658934917**"
      ],
      "text/plain": [
       "<IPython.core.display.Markdown object>"
      ]
     },
     "metadata": {},
     "output_type": "display_data"
    }
   ],
   "source": [
    "ChloraminesAwal = water_potability.iloc[:100,:]\n",
    "ChloraminesAkhir = water_potability.iloc[-100:,:]\n",
    "print(\"5. Perhitungan Nilai Uji Statistik dari Data Sample\")\n",
    "printM(\"$\\\\bar{X}_{ChloraminesAwal} = \"+ str(ChloraminesAwal['Chloramines'].mean()) +  \"$\")\n",
    "printM(\"$\\\\bar{X}_{ChloraminesAkhir} = \" + str(ChloraminesAkhir['Chloramines'].mean()) +\"$\")\n",
    "printM(\"$S^2_{ChloraminesAwal} = \"+ str(ChloraminesAwal['Chloramines'].var()) +  \"$\")\n",
    "printM(\"$S^2_{ChloraminesAkhir} = \" + str(ChloraminesAkhir['Chloramines'].var()) +\"$\")\n",
    "Sp = ((len(ChloraminesAwal['Chloramines'])-1)*ChloraminesAwal['Chloramines'].var()+(len(ChloraminesAkhir['Chloramines']-1))*ChloraminesAkhir['Chloramines'].var())/(len(ChloraminesAwal['Chloramines'])+len(ChloraminesAkhir['Chloramines'])-2)\n",
    "printM(\"$S^2_{p} = \" + str(Sp) +\"$\")\n",
    "printM(\"$n_{ChloraminesAwal} =\" + str(len(ChloraminesAwal['Chloramines'])) +\",\\\\, n_{ChloraminesAkhir} =\"+ str(len(ChloraminesAwal['Chloramines'])) + \"$\")\n",
    "printM(\"$t' = \\\\Large\\\\frac{(\\\\bar{X}_{ChloraminesAwal} - \\\\bar{X}_{ChloraminesAkhir})-d_0}{S_{p}\\\\sqrt{\\\\Large\\\\frac{1}{\\\\Large n_{ChloraminesAwal}} + \\\\Large\\\\frac{1}{\\\\Large n_{ChloraminesAkhir}}}}$\")\n",
    "printM(\"dengan $d_0 = \\\\mu_{ChloraminesAwal} - \\\\mu_{ChloraminesAkhir} = 0$\")\n",
    "t = ((ChloraminesAwal['Chloramines'].mean() - ChloraminesAkhir['Chloramines'].mean()) - 0)/(((1/len(ChloraminesAwal['Chloramines']) + 1/len(ChloraminesAwal['Chloramines']))*Sp)**0.5)\n",
    "dk = len(ChloraminesAwal['Chloramines'])+len(ChloraminesAkhir['Chloramines']) - 2\n",
    "printM(\"didapat **t' = \"+str(t)+\"**\")\n",
    "printM(\"didapat **P-Value = \"+ str(scipy.stats.t.sf(abs(t), dk)*2) + \"**\")"
   ]
  },
  {
   "cell_type": "markdown",
   "metadata": {},
   "source": [
    "##### 6. Kesimpulan\n",
    "Karena nilai t' diluar titik kritis maka $H_0$ diterima. P-value yang didapatkan juga lebih besar dibanding tingkat sinifikansi $\\alpha$ yang diinginkan. Sehingga, didapatkan kesimpulan **rata-rata 100 bagian awal dan 100 bagian akhir kolom Chloramines sama**."
   ]
  },
  {
   "cell_type": "code",
   "execution_count": 27,
   "metadata": {},
   "outputs": [
    {
     "data": {
      "text/plain": [
       "<AxesSubplot:>"
      ]
     },
     "execution_count": 27,
     "metadata": {},
     "output_type": "execute_result"
    },
    {
     "data": {
      "image/png": "[encoded data removed]",
      "text/plain": [
       "<Figure size 1080x504 with 2 Axes>"
      ]
     },
     "metadata": {
      "needs_background": "light"
     },
     "output_type": "display_data"
    }
   ],
   "source": [
    "fig, axs = plt.subplots(1, 2, figsize=(15,7))\n",
    "ChloraminesAwal.boxplot(\"Chloramines\", ax=axs[0])\n",
    "ChloraminesAkhir.boxplot(\"Chloramines\", ax=axs[1])\n",
    "# boxplot kiri merupakan Chloramines awal, kanan Chloramines akhir"
   ]
  },
  {
   "cell_type": "markdown",
   "metadata": {},
   "source": [
    "##### d. Proporsi nilai bagian awal Turbidity yang lebih dari 4, adalah lebih besar daripada, proporsi nilai yang sama di bagian akhir Turbidity ?\n",
    "\n",
    "1. Hipotesis Nol\n",
    "$$H_0 : P(X_{1}>4) = P(X_{2}>4)$$\n",
    "\n",
    "2. Hipotesis Alternatif\n",
    "$$H_1 : P(X_{1}>4) > P(X_{2}>4)$$\n",
    "\n",
    "3. Tingkat Signifikan $\\alpha$\n",
    "$$\\alpha = 0.05$$\n",
    "\n",
    "4. Uji Statistik dan Daerah Kritis\n",
    "<br>\n",
    "Asumsi kolom Turbidity berdistribusi normal maka didapatkan nilai kritis Z > 1.645"
   ]
  },
  {
   "cell_type": "code",
   "execution_count": 28,
   "metadata": {},
   "outputs": [
    {
     "name": "stdout",
     "output_type": "stream",
     "text": [
      "5. Perhitungan nilai uji statistik dan p-value\n"
     ]
    },
    {
     "data": {
      "text/markdown": [
       "$\\hat{p} = \\Large\\frac{x}{n}$"
      ],
      "text/plain": [
       "<IPython.core.display.Markdown object>"
      ]
     },
     "metadata": {},
     "output_type": "display_data"
    },
    {
     "data": {
      "text/markdown": [
       "$\\hat{p}_1 = 0.4835820895522388$"
      ],
      "text/plain": [
       "<IPython.core.display.Markdown object>"
      ]
     },
     "metadata": {},
     "output_type": "display_data"
    },
    {
     "data": {
      "text/markdown": [
       "$\\hat{p}_2 = 0.48656716417910445$"
      ],
      "text/plain": [
       "<IPython.core.display.Markdown object>"
      ]
     },
     "metadata": {},
     "output_type": "display_data"
    },
    {
     "data": {
      "text/markdown": [
       "$\\bar{p}=\\Large\\frac{x_1 + x_2}{n_1 + n_2}$"
      ],
      "text/plain": [
       "<IPython.core.display.Markdown object>"
      ]
     },
     "metadata": {},
     "output_type": "display_data"
    },
    {
     "data": {
      "text/markdown": [
       "$\\bar{p} = 0.48507462686567165$"
      ],
      "text/plain": [
       "<IPython.core.display.Markdown object>"
      ]
     },
     "metadata": {},
     "output_type": "display_data"
    },
    {
     "data": {
      "text/markdown": [
       "$z=\\Large\\frac{\\hat{p}_1-\\hat{p}_2}{\\sqrt{\\bar{p}(1-\\bar{p})(\\frac{1}{n_1}+\\frac{1}{n_2})}}$"
      ],
      "text/plain": [
       "<IPython.core.display.Markdown object>"
      ]
     },
     "metadata": {},
     "output_type": "display_data"
    },
    {
     "data": {
      "text/markdown": [
       "didapat **z = -0.13388958661778735**"
      ],
      "text/plain": [
       "<IPython.core.display.Markdown object>"
      ]
     },
     "metadata": {},
     "output_type": "display_data"
    },
    {
     "data": {
      "text/markdown": [
       "**P-value = 0.5532550575911831**"
      ],
      "text/plain": [
       "<IPython.core.display.Markdown object>"
      ]
     },
     "metadata": {},
     "output_type": "display_data"
    }
   ],
   "source": [
    "TurbidityAwal = water_potability.iloc[:water_potability['Turbidity'].count()//2,:]\n",
    "TurbidityAkhir = water_potability.iloc[water_potability['Turbidity'].count()//2:,:]\n",
    "jumlahAwal = 0\n",
    "jumlahAkhir= 0\n",
    "for i in range(len(TurbidityAwal)):\n",
    "    if (TurbidityAwal[\"Turbidity\"][i] > 4):\n",
    "        jumlahAwal += 1\n",
    "for i in range(len(TurbidityAkhir)):\n",
    "    if (TurbidityAkhir[\"Turbidity\"][i+len(TurbidityAwal)] > 4):\n",
    "        jumlahAkhir+= 1\n",
    "\n",
    "print(\"5. Perhitungan nilai uji statistik dan p-value\")\n",
    "printM(\"$\\\\hat{p} = \\\\Large\\\\frac{x}{n}$\")\n",
    "p1 = jumlahAwal/len(TurbidityAwal)\n",
    "p2 = jumlahAkhir/len(TurbidityAkhir)\n",
    "printM(\"$\\\\hat{p}_1 = \" + f\"{p1}$\")\n",
    "printM(\"$\\\\hat{p}_2 = \" + f\"{p2}$\")\n",
    "printM(\"$\\\\bar{p}=\\\\Large\\\\frac{x_1 + x_2}{n_1 + n_2}$\")\n",
    "p = (jumlahAwal + jumlahAkhir)/(len(TurbidityAwal)+len(TurbidityAkhir))\n",
    "q = 1-p\n",
    "printM(\"$\\\\bar{p} = \" + f\"{p}$\")\n",
    "printM(\"$z=\\\\Large\\\\frac{\\\\hat{p}_1-\\\\hat{p}_2}{\\\\sqrt{\\\\bar{p}(1-\\\\bar{p})(\\\\frac{1}{n_1}+\\\\frac{1}{n_2})}}$\")\n",
    "z = (p1 - p2)/((p*(1-p)*(1/len(TurbidityAwal) + 1/len(TurbidityAkhir)))**0.5)\n",
    "printM(\"didapat **z = \"+f\"{z}**\")\n",
    "pZ = scipy.stats.norm.sf(z)\n",
    "printM(\"**P-value = \"+f\"{pZ}**\")"
   ]
  },
  {
   "cell_type": "markdown",
   "metadata": {},
   "source": [
    "##### 6.Kesimpulan\n",
    "Karena nilai t' diluar titik kritis maka $H_0$ diterima, P-value yang didapatkan juga lebih besar dibanding tingkat sinifikansi  yang diinginkan. maka **Proporsi nilai bagian awal Turbidity yang lebih dari 4, tidak lebih besar daripada, proporsi nilai yang sama di bagian akhir Turbidity**."
   ]
  },
  {
   "cell_type": "code",
   "execution_count": 29,
   "metadata": {},
   "outputs": [
    {
     "data": {
      "text/plain": [
       "<AxesSubplot:>"
      ]
     },
     "execution_count": 29,
     "metadata": {},
     "output_type": "execute_result"
    },
    {
     "data": {
      "image/png": "[encoded data removed]",
      "text/plain": [
       "<Figure size 1080x504 with 2 Axes>"
      ]
     },
     "metadata": {
      "needs_background": "light"
     },
     "output_type": "display_data"
    }
   ],
   "source": [
    "fig, axs = plt.subplots(1, 2, figsize=(15,7))\n",
    "TurbidityAwal.boxplot(\"Turbidity\", ax=axs[0])\n",
    "TurbidityAkhir.boxplot(\"Turbidity\", ax=axs[1])\n",
    "# boxplot kiri merupakan Turbidity awal, kanan Turbidity akhir"
   ]
  },
  {
   "cell_type": "markdown",
   "metadata": {},
   "source": [
    "##### e. Bagian awal kolom Sulfate memiliki variansi yang sama dengan bagian akhirnya?\n",
    "\n",
    "1. Hipotesis Nol\n",
    "$$H_0 : \\sigma_{SulfateAwal} = \\sigma_{SulfateAkhir}$$\n",
    "\n",
    "2. Hipotesis Alternatif\n",
    "$$H_1 : \\sigma_{SulfateAwal} \\not= \\sigma_{SulfateAkhir}$$\n",
    "\n",
    "3. Tingkat Signifikan $\\alpha$\n",
    "$$\\alpha = 0.05$$\n",
    "\n",
    "4. Uji Statistik dan Daerah Kritis\n",
    "<br>\n",
    "Derajat Kebebasan awal = 1005 - 1 = 1004\n",
    "<br>\n",
    "Derajat Kebebasan akhir = 1005 - 1 = 1004\n",
    "<br>\n",
    "Asumsi kolom Sulfate berdistribusi normal maka didapatkan nilai kritis dengan uji test distribusi F adalah $0 < f \\le 0.8836$ dan $f\\ge1.1318$"
   ]
  },
  {
   "cell_type": "code",
   "execution_count": 30,
   "metadata": {},
   "outputs": [
    {
     "name": "stdout",
     "output_type": "stream",
     "text": [
      "5. Perhitungan Nilai Uji Statistik dari Data Sample\n"
     ]
    },
    {
     "data": {
      "text/markdown": [
       "$S^2_{SulfateAwal} = 1708.3966020772502$"
      ],
      "text/plain": [
       "<IPython.core.display.Markdown object>"
      ]
     },
     "metadata": {},
     "output_type": "display_data"
    },
    {
     "data": {
      "text/markdown": [
       "$S^2_{SulfateAkhir} = 1682.7330644425087$"
      ],
      "text/plain": [
       "<IPython.core.display.Markdown object>"
      ]
     },
     "metadata": {},
     "output_type": "display_data"
    },
    {
     "data": {
      "text/markdown": [
       "$f = \\Large\\frac{s^2_{DiameterAwal}}{s^2_{DiameterAkhir}}$"
      ],
      "text/plain": [
       "<IPython.core.display.Markdown object>"
      ]
     },
     "metadata": {},
     "output_type": "display_data"
    },
    {
     "data": {
      "text/markdown": [
       "$f = 1.0152511043950063$"
      ],
      "text/plain": [
       "<IPython.core.display.Markdown object>"
      ]
     },
     "metadata": {},
     "output_type": "display_data"
    },
    {
     "data": {
      "text/markdown": [
       "**P-value = 0.8104407122629728**"
      ],
      "text/plain": [
       "<IPython.core.display.Markdown object>"
      ]
     },
     "metadata": {},
     "output_type": "display_data"
    }
   ],
   "source": [
    "print(\"5. Perhitungan Nilai Uji Statistik dari Data Sample\")\n",
    "SulfateAwal = water_potability.iloc[:water_potability['Sulfate'].count()//2,:]\n",
    "SulfateAkhir = water_potability.iloc[water_potability['Sulfate'].count()//2:,:]\n",
    "printM(\"$S^2_{SulfateAwal} = \"+ str(SulfateAwal['Sulfate'].var()) +  \"$\")\n",
    "printM(\"$S^2_{SulfateAkhir} = \" + str(SulfateAkhir['Sulfate'].var()) +\"$\")\n",
    "printM(\"$f = \\\\Large\\\\frac{s^2_{DiameterAwal}}{s^2_{DiameterAkhir}}$\")\n",
    "f = SulfateAwal['Sulfate'].var()/SulfateAkhir['Sulfate'].var()\n",
    "printM(\"$f = \" + f\"{f}$\")\n",
    "pF = scipy.stats.f.sf(f, len(SulfateAwal), len(SulfateAkhir))*2\n",
    "printM(\"**P-value = \"+f\"{pF}**\")"
   ]
  },
  {
   "cell_type": "markdown",
   "metadata": {},
   "source": [
    "##### 6. Kesimpulan\n",
    "Nilai f yang didapat tidak terletak pada titik kritis, $0 < f \\le 0.8836$ dan $f\\ge1.1318$ maka $H_{0}$ diterima. value yang didapatkan juga lebih besar dibanding tingkat sinifikansi $\\alpha$ yang diinginkan. Sehingga, dapat disimpulkan **bagian awal kolom Sulfate memiliki variansi yang sama dengan bagian akhirnya**."
   ]
  },
  {
   "cell_type": "code",
   "execution_count": 31,
   "metadata": {},
   "outputs": [
    {
     "data": {
      "text/plain": [
       "<AxesSubplot:>"
      ]
     },
     "execution_count": 31,
     "metadata": {},
     "output_type": "execute_result"
    },
    {
     "data": {
      "image/png": "[encoded data removed]",
      "text/plain": [
       "<Figure size 1080x504 with 2 Axes>"
      ]
     },
     "metadata": {
      "needs_background": "light"
     },
     "output_type": "display_data"
    }
   ],
   "source": [
    "fig, axs = plt.subplots(1, 2, figsize=(15,7))\n",
    "SulfateAwal.boxplot(\"Sulfate\", ax=axs[0])\n",
    "SulfateAkhir.boxplot(\"Sulfate\", ax=axs[1])\n",
    "# boxplot kiri merupakan Sulfate awal, kanan Sulfate akhir"
   ]
  },
  {
   "cell_type": "markdown",
   "metadata": {},
   "source": [
    "---\n",
    "### 6. Test korelasi: tentukan apakah setiap kolom non-target berkorelasi dengan kolom target, dengan menggambarkan juga scatter plot nya. Gunakan correlation test.\n",
    "Adapun daftar kolom non-target adalah sebagai berikut.\n",
    "1. pH\n",
    "2. Hardness\n",
    "3. Solids\n",
    "4. Chloramines\n",
    "5. Sulfate\n",
    "6. Conductivity\n",
    "7. OrganicCarbon\n",
    "8. Trihalomethanes\n",
    "9. Turbidity\n",
    "\n",
    "Sedangkan kolom target hanyalah Potability."
   ]
  },
  {
   "cell_type": "markdown",
   "metadata": {},
   "source": [
    "Adapun metode yang digunakan adalah sebagai berikut.\n",
    "1. Melakukan tes korelasi dengan metode Pearson\n",
    "    - H0 : p = 0 (Tidak ada korelasi antara kolom target dan kolom non-target)\n",
    "    - H1 : p ≠ 0 (Ada korelasi antara kolom target dan kolom non-target)\n",
    "<br><br>\n",
    "2. Jika terdapat korelasi diantara kolom non-target dan kolom target maka cari berapa koefisien korelasi diantara kedua kolom tersebut. Beberapa kesimpulan yang dapat diambil sebagai berikut :\n",
    "    - 0 < Koefisien Korelasi < 1 (Positive Correlation)\n",
    "    - Koefisien Korelasi = 1 (Strong Positive Correlation)\n",
    "    - -1 < Koefisien Korelasi < 0 (Negative Correlation)\n",
    "    - Koefisien Korelasi = -1 (Strong Negative Correlation)\n",
    "    - Koefisien Korelasi = 0 (No Correlation)\n",
    "<br><br>\n",
    "3. Tampilkan Scatter Plot di antara dua kolom tersebut"
   ]
  },
  {
   "cell_type": "code",
   "execution_count": 32,
   "metadata": {},
   "outputs": [],
   "source": [
    "# Deklarasi dataframe kolom Potability\n",
    "\n",
    "Potability = water_potability[\"Potability\"]"
   ]
  },
  {
   "cell_type": "code",
   "execution_count": 33,
   "metadata": {},
   "outputs": [],
   "source": [
    "# Deklarasi Procedure\n",
    "def testCorelation(column):\n",
    "    if column == 'pH':\n",
    "        test = pH\n",
    "    elif column == 'Hardness':\n",
    "        test = Hardness\n",
    "    elif column == 'Solids':\n",
    "        test = Solids\n",
    "    elif column == 'Chloramines':\n",
    "        test = Chloramines\n",
    "    elif column == 'Sulfate':\n",
    "        test = Sulfate\n",
    "    elif column == 'Conductivity':\n",
    "        test = Conductivity\n",
    "    elif column == 'OrganicCarbon':\n",
    "        test = OrganicCarbon\n",
    "    elif column == 'Trihalomethanes':\n",
    "        test = Trihalomethanes\n",
    "    else:\n",
    "        test = Turbidity\n",
    "\n",
    "    display(Markdown(\"#### Kesimpulan : <br>\"))\n",
    "    stat, p = scipy.stats.pearsonr(test, Potability)\n",
    "    isCorelating = True\n",
    "    if p == 0:\n",
    "        print(\"H0 tidak bisa ditolak, sehingga tidak ada korelasi antara kolom {} (non-target) dan kolom Potability (target).\".format(column))\n",
    "        isCorelating = False\n",
    "    else:\n",
    "        print(\"H0 ditolak, sehingga ada korelasi antara kolom {} (non-target) dan kolom Potability (target).\".format(column))\n",
    "    # Koefisien Korelasi\n",
    "    if (isCorelating):\n",
    "        koefColumn = test.corr(Potability, method='pearson')\n",
    "        print(\"Koefisien korelasi : {}.\". format(koefColumn))\n",
    "        if (koefColumn > 0 and koefColumn < 1):\n",
    "            print(\"Jenis korelasi : Positive Correlation.\")\n",
    "            print(\"Sehingga nilai {} yang lebih besar akan dikategorikan pada potability yang lebih besar atau sebaliknya. \".format(column))\n",
    "        elif (koefColumn == 1):\n",
    "            print(\"Jenis korelasi : Strong Positive Correlation.\")\n",
    "            print(\"Sehingga nilai {} yang lebih besar akan dikategorikan pada potability yang lebih besar atau sebaliknya. \".format(column))\n",
    "        elif (koefColumn > -1 and koefColumn < 0):\n",
    "            print(\"Jenis korelasi : Negative Correlation.\")\n",
    "            print(\"Sehingga nilai {} yang lebih besar akan dikategorikan pada potability yang lebih kecil atau sebaliknya.\".format(column))\n",
    "        elif (koefColumn == -1):\n",
    "            print(\"Jenis korelasi : Strong Negative Correlation.\")\n",
    "            print(\"Sehingga nilai {} yang lebih besar akan dikategorikan pada potability yang lebih kecil atau sebaliknya.\".format(column))\n",
    "        else:\n",
    "            print(\"Jenis korelasi : No Correlation\")\n",
    "    # Scatter Plot\n",
    "    display(Markdown(\"#### Scatter Plot antara Kolom {} dengan {} : <br>\".format(column, \"Potability\")))\n",
    "    # water_potability.plot(title=\"{} vs {}\".format(column, 'Potability'), kind='scatter', x=column, y='Potability', yticks=[0.0, 0.2, 0.4, 0.6, 0.8, 1.0], color='blue')\n",
    "    sns.regplot(x=water_potability[column], y=water_potability['Potability'])"
   ]
  },
  {
   "cell_type": "markdown",
   "metadata": {},
   "source": [
    "#### 1. Tes Korelasi Kolom pH dengan Kolom Potability"
   ]
  },
  {
   "cell_type": "code",
   "execution_count": 34,
   "metadata": {},
   "outputs": [
    {
     "data": {
      "text/markdown": [
       "#### Kesimpulan : <br>"
      ],
      "text/plain": [
       "<IPython.core.display.Markdown object>"
      ]
     },
     "metadata": {},
     "output_type": "display_data"
    },
    {
     "name": "stdout",
     "output_type": "stream",
     "text": [
      "H0 ditolak, sehingga ada korelasi antara kolom pH (non-target) dan kolom Potability (target).\n",
      "Koefisien korelasi : 0.01547509440843348.\n",
      "Jenis korelasi : Positive Correlation.\n",
      "Sehingga nilai pH yang lebih besar akan dikategorikan pada potability yang lebih besar atau sebaliknya. \n"
     ]
    },
    {
     "data": {
      "text/markdown": [
       "#### Scatter Plot antara Kolom pH dengan Potability : <br>"
      ],
      "text/plain": [
       "<IPython.core.display.Markdown object>"
      ]
     },
     "metadata": {},
     "output_type": "display_data"
    },
    {
     "data": {
      "image/png": "[encoded data removed]",
      "text/plain": [
       "<Figure size 432x288 with 1 Axes>"
      ]
     },
     "metadata": {
      "needs_background": "light"
     },
     "output_type": "display_data"
    }
   ],
   "source": [
    "testCorelation('pH')"
   ]
  },
  {
   "cell_type": "markdown",
   "metadata": {},
   "source": [
    "#### 2. Tes Korelasi Kolom Hardness dengan Kolom Potability"
   ]
  },
  {
   "cell_type": "code",
   "execution_count": 35,
   "metadata": {},
   "outputs": [
    {
     "data": {
      "text/markdown": [
       "#### Kesimpulan : <br>"
      ],
      "text/plain": [
       "<IPython.core.display.Markdown object>"
      ]
     },
     "metadata": {},
     "output_type": "display_data"
    },
    {
     "name": "stdout",
     "output_type": "stream",
     "text": [
      "H0 ditolak, sehingga ada korelasi antara kolom Hardness (non-target) dan kolom Potability (target).\n",
      "Koefisien korelasi : -0.0014631528959479344.\n",
      "Jenis korelasi : Negative Correlation.\n",
      "Sehingga nilai Hardness yang lebih besar akan dikategorikan pada potability yang lebih kecil atau sebaliknya.\n"
     ]
    },
    {
     "data": {
      "text/markdown": [
       "#### Scatter Plot antara Kolom Hardness dengan Potability : <br>"
      ],
      "text/plain": [
       "<IPython.core.display.Markdown object>"
      ]
     },
     "metadata": {},
     "output_type": "display_data"
    },
    {
     "data": {
      "image/png": "[encoded data removed]",
      "text/plain": [
       "<Figure size 432x288 with 1 Axes>"
      ]
     },
     "metadata": {
      "needs_background": "light"
     },
     "output_type": "display_data"
    }
   ],
   "source": [
    "testCorelation('Hardness')"
   ]
  },
  {
   "cell_type": "markdown",
   "metadata": {},
   "source": [
    "#### 3. Tes Korelasi Kolom Solids dengan Kolom Potability"
   ]
  },
  {
   "cell_type": "code",
   "execution_count": 36,
   "metadata": {},
   "outputs": [
    {
     "data": {
      "text/markdown": [
       "#### Kesimpulan : <br>"
      ],
      "text/plain": [
       "<IPython.core.display.Markdown object>"
      ]
     },
     "metadata": {},
     "output_type": "display_data"
    },
    {
     "name": "stdout",
     "output_type": "stream",
     "text": [
      "H0 ditolak, sehingga ada korelasi antara kolom Solids (non-target) dan kolom Potability (target).\n",
      "Koefisien korelasi : 0.03897657818173466.\n",
      "Jenis korelasi : Positive Correlation.\n",
      "Sehingga nilai Solids yang lebih besar akan dikategorikan pada potability yang lebih besar atau sebaliknya. \n"
     ]
    },
    {
     "data": {
      "text/markdown": [
       "#### Scatter Plot antara Kolom Solids dengan Potability : <br>"
      ],
      "text/plain": [
       "<IPython.core.display.Markdown object>"
      ]
     },
     "metadata": {},
     "output_type": "display_data"
    },
    {
     "data": {
      "image/png": "[encoded data removed]",
      "text/plain": [
       "<Figure size 432x288 with 1 Axes>"
      ]
     },
     "metadata": {
      "needs_background": "light"
     },
     "output_type": "display_data"
    }
   ],
   "source": [
    "testCorelation('Solids')"
   ]
  },
  {
   "cell_type": "markdown",
   "metadata": {},
   "source": [
    "#### 4. Tes Korelasi Kolom Chloramines dengan Kolom Potability"
   ]
  },
  {
   "cell_type": "code",
   "execution_count": 37,
   "metadata": {},
   "outputs": [
    {
     "data": {
      "text/markdown": [
       "#### Kesimpulan : <br>"
      ],
      "text/plain": [
       "<IPython.core.display.Markdown object>"
      ]
     },
     "metadata": {},
     "output_type": "display_data"
    },
    {
     "name": "stdout",
     "output_type": "stream",
     "text": [
      "H0 ditolak, sehingga ada korelasi antara kolom Chloramines (non-target) dan kolom Potability (target).\n",
      "Koefisien korelasi : 0.02077892184052409.\n",
      "Jenis korelasi : Positive Correlation.\n",
      "Sehingga nilai Chloramines yang lebih besar akan dikategorikan pada potability yang lebih besar atau sebaliknya. \n"
     ]
    },
    {
     "data": {
      "text/markdown": [
       "#### Scatter Plot antara Kolom Chloramines dengan Potability : <br>"
      ],
      "text/plain": [
       "<IPython.core.display.Markdown object>"
      ]
     },
     "metadata": {},
     "output_type": "display_data"
    },
    {
     "data": {
      "image/png": "[encoded data removed]",
      "text/plain": [
       "<Figure size 432x288 with 1 Axes>"
      ]
     },
     "metadata": {
      "needs_background": "light"
     },
     "output_type": "display_data"
    }
   ],
   "source": [
    "testCorelation('Chloramines')"
   ]
  },
  {
   "cell_type": "markdown",
   "metadata": {},
   "source": [
    "#### 5. Tes Korelasi Kolom Sulfate dengan Kolom Potability"
   ]
  },
  {
   "cell_type": "code",
   "execution_count": 38,
   "metadata": {},
   "outputs": [
    {
     "data": {
      "text/markdown": [
       "#### Kesimpulan : <br>"
      ],
      "text/plain": [
       "<IPython.core.display.Markdown object>"
      ]
     },
     "metadata": {},
     "output_type": "display_data"
    },
    {
     "name": "stdout",
     "output_type": "stream",
     "text": [
      "H0 ditolak, sehingga ada korelasi antara kolom Sulfate (non-target) dan kolom Potability (target).\n",
      "Koefisien korelasi : -0.015703164419273778.\n",
      "Jenis korelasi : Negative Correlation.\n",
      "Sehingga nilai Sulfate yang lebih besar akan dikategorikan pada potability yang lebih kecil atau sebaliknya.\n"
     ]
    },
    {
     "data": {
      "text/markdown": [
       "#### Scatter Plot antara Kolom Sulfate dengan Potability : <br>"
      ],
      "text/plain": [
       "<IPython.core.display.Markdown object>"
      ]
     },
     "metadata": {},
     "output_type": "display_data"
    },
    {
     "data": {
      "image/png": "[encoded data removed]",
      "text/plain": [
       "<Figure size 432x288 with 1 Axes>"
      ]
     },
     "metadata": {
      "needs_background": "light"
     },
     "output_type": "display_data"
    }
   ],
   "source": [
    "testCorelation('Sulfate')"
   ]
  },
  {
   "cell_type": "markdown",
   "metadata": {},
   "source": [
    "#### 6. Tes Korelasi Kolom Conductivity dengan Kolom Potability"
   ]
  },
  {
   "cell_type": "code",
   "execution_count": 39,
   "metadata": {},
   "outputs": [
    {
     "data": {
      "text/markdown": [
       "#### Kesimpulan : <br>"
      ],
      "text/plain": [
       "<IPython.core.display.Markdown object>"
      ]
     },
     "metadata": {},
     "output_type": "display_data"
    },
    {
     "name": "stdout",
     "output_type": "stream",
     "text": [
      "H0 ditolak, sehingga ada korelasi antara kolom Conductivity (non-target) dan kolom Potability (target).\n",
      "Koefisien korelasi : -0.016257120111377067.\n",
      "Jenis korelasi : Negative Correlation.\n",
      "Sehingga nilai Conductivity yang lebih besar akan dikategorikan pada potability yang lebih kecil atau sebaliknya.\n"
     ]
    },
    {
     "data": {
      "text/markdown": [
       "#### Scatter Plot antara Kolom Conductivity dengan Potability : <br>"
      ],
      "text/plain": [
       "<IPython.core.display.Markdown object>"
      ]
     },
     "metadata": {},
     "output_type": "display_data"
    },
    {
     "data": {
      "image/png": "[encoded data removed]",
      "text/plain": [
       "<Figure size 432x288 with 1 Axes>"
      ]
     },
     "metadata": {
      "needs_background": "light"
     },
     "output_type": "display_data"
    }
   ],
   "source": [
    "testCorelation('Conductivity')"
   ]
  },
  {
   "cell_type": "markdown",
   "metadata": {},
   "source": [
    "#### 7. Tes Korelasi Kolom OrganicCarbon dengan Kolom Potability"
   ]
  },
  {
   "cell_type": "code",
   "execution_count": 40,
   "metadata": {},
   "outputs": [
    {
     "data": {
      "text/markdown": [
       "#### Kesimpulan : <br>"
      ],
      "text/plain": [
       "<IPython.core.display.Markdown object>"
      ]
     },
     "metadata": {},
     "output_type": "display_data"
    },
    {
     "name": "stdout",
     "output_type": "stream",
     "text": [
      "H0 ditolak, sehingga ada korelasi antara kolom OrganicCarbon (non-target) dan kolom Potability (target).\n",
      "Koefisien korelasi : -0.015488461910747259.\n",
      "Jenis korelasi : Negative Correlation.\n",
      "Sehingga nilai OrganicCarbon yang lebih besar akan dikategorikan pada potability yang lebih kecil atau sebaliknya.\n"
     ]
    },
    {
     "data": {
      "text/markdown": [
       "#### Scatter Plot antara Kolom OrganicCarbon dengan Potability : <br>"
      ],
      "text/plain": [
       "<IPython.core.display.Markdown object>"
      ]
     },
     "metadata": {},
     "output_type": "display_data"
    },
    {
     "data": {
      "image/png": "[encoded data removed]",
      "text/plain": [
       "<Figure size 432x288 with 1 Axes>"
      ]
     },
     "metadata": {
      "needs_background": "light"
     },
     "output_type": "display_data"
    }
   ],
   "source": [
    "testCorelation('OrganicCarbon')"
   ]
  },
  {
   "cell_type": "markdown",
   "metadata": {},
   "source": [
    "#### 8. Tes Korelasi Kolom Trihalomethanes dengan Kolom Potability"
   ]
  },
  {
   "cell_type": "code",
   "execution_count": 41,
   "metadata": {},
   "outputs": [
    {
     "data": {
      "text/markdown": [
       "#### Kesimpulan : <br>"
      ],
      "text/plain": [
       "<IPython.core.display.Markdown object>"
      ]
     },
     "metadata": {},
     "output_type": "display_data"
    },
    {
     "name": "stdout",
     "output_type": "stream",
     "text": [
      "H0 ditolak, sehingga ada korelasi antara kolom Trihalomethanes (non-target) dan kolom Potability (target).\n",
      "Koefisien korelasi : 0.009236711064712997.\n",
      "Jenis korelasi : Positive Correlation.\n",
      "Sehingga nilai Trihalomethanes yang lebih besar akan dikategorikan pada potability yang lebih besar atau sebaliknya. \n"
     ]
    },
    {
     "data": {
      "text/markdown": [
       "#### Scatter Plot antara Kolom Trihalomethanes dengan Potability : <br>"
      ],
      "text/plain": [
       "<IPython.core.display.Markdown object>"
      ]
     },
     "metadata": {},
     "output_type": "display_data"
    },
    {
     "data": {
      "image/png": "[encoded data removed]",
      "text/plain": [
       "<Figure size 432x288 with 1 Axes>"
      ]
     },
     "metadata": {
      "needs_background": "light"
     },
     "output_type": "display_data"
    }
   ],
   "source": [
    "testCorelation('Trihalomethanes')"
   ]
  },
  {
   "cell_type": "markdown",
   "metadata": {},
   "source": [
    "#### 9. Tes Korelasi Kolom Turbidity dengan Kolom Potability"
   ]
  },
  {
   "cell_type": "code",
   "execution_count": 42,
   "metadata": {},
   "outputs": [
    {
     "data": {
      "text/markdown": [
       "#### Kesimpulan : <br>"
      ],
      "text/plain": [
       "<IPython.core.display.Markdown object>"
      ]
     },
     "metadata": {},
     "output_type": "display_data"
    },
    {
     "name": "stdout",
     "output_type": "stream",
     "text": [
      "H0 ditolak, sehingga ada korelasi antara kolom Turbidity (non-target) dan kolom Potability (target).\n",
      "Koefisien korelasi : 0.022331042640622665.\n",
      "Jenis korelasi : Positive Correlation.\n",
      "Sehingga nilai Turbidity yang lebih besar akan dikategorikan pada potability yang lebih besar atau sebaliknya. \n"
     ]
    },
    {
     "data": {
      "text/markdown": [
       "#### Scatter Plot antara Kolom Turbidity dengan Potability : <br>"
      ],
      "text/plain": [
       "<IPython.core.display.Markdown object>"
      ]
     },
     "metadata": {},
     "output_type": "display_data"
    },
    {
     "data": {
      "image/png": "[encoded data removed]",
      "text/plain": [
       "<Figure size 432x288 with 1 Axes>"
      ]
     },
     "metadata": {
      "needs_background": "light"
     },
     "output_type": "display_data"
    }
   ],
   "source": [
    "testCorelation('Turbidity')"
   ]
  }
 ],
 "metadata": {
  "interpreter": {
   "hash": "d206c693ab64e5cf2310c5eabecc6a526b3adc92a21d093e14ed0ccd416855d2"
  },
  "kernelspec": {
   "display_name": "Python 3.9.0 64-bit",
   "language": "python",
   "name": "python3"
  },
  "language_info": {
   "codemirror_mode": {
    "name": "ipython",
    "version": 3
   },
   "file_extension": ".py",
   "mimetype": "text/x-python",
   "name": "python",
   "nbconvert_exporter": "python",
   "pygments_lexer": "ipython3",
   "version": "3.10.4"
  },
  "orig_nbformat": 4
 },
 "nbformat": 4,
 "nbformat_minor": 2
}
